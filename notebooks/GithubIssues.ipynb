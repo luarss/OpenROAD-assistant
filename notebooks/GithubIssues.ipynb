{
 "cells": [
  {
   "cell_type": "markdown",
   "id": "f997e422-0788-430b-bc8d-911094dd9c23",
   "metadata": {},
   "source": [
    "# Scraping github issues \n",
    "\n",
    "- To first divide issues into PRs and issues\n",
    "- Use https://api.github.com/search/issues?q=is:issue%20repo:The-OpenROAD-Project/OpenROAD to get issues only\n",
    "- Note that it provides only up to 1000 results. but we can easily segment to dates."
   ]
  },
  {
   "cell_type": "code",
   "execution_count": 9,
   "id": "f76c3ff3-241a-4dc6-8810-7887ef1bd48f",
   "metadata": {},
   "outputs": [],
   "source": [
    "import requests\n",
    "import json"
   ]
  },
  {
   "cell_type": "code",
   "execution_count": null,
   "id": "5cfe325d-1092-491f-8270-6b24ccd99c2b",
   "metadata": {},
   "outputs": [],
   "source": [
    "# TODO: Authentication\n",
    "\n"
   ]
  },
  {
   "cell_type": "code",
   "execution_count": 12,
   "id": "f46fa106-5f54-4f51-8119-38f0278ab567",
   "metadata": {},
   "outputs": [
    {
     "name": "stdout",
     "output_type": "stream",
     "text": [
      "{\n",
      "  \"resources\": {\n",
      "    \"core\": {\n",
      "      \"limit\": 60,\n",
      "      \"remaining\": 60,\n",
      "      \"reset\": 1703643627,\n",
      "      \"used\": 0,\n",
      "      \"resource\": \"core\"\n",
      "    },\n",
      "    \"graphql\": {\n",
      "      \"limit\": 0,\n",
      "      \"remaining\": 0,\n",
      "      \"reset\": 1703643627,\n",
      "      \"used\": 0,\n",
      "      \"resource\": \"graphql\"\n",
      "    },\n",
      "    \"integration_manifest\": {\n",
      "      \"limit\": 5000,\n",
      "      \"remaining\": 5000,\n",
      "      \"reset\": 1703643627,\n",
      "      \"used\": 0,\n",
      "      \"resource\": \"integration_manifest\"\n",
      "    },\n",
      "    \"search\": {\n",
      "      \"limit\": 10,\n",
      "      \"remaining\": 10,\n",
      "      \"reset\": 1703640087,\n",
      "      \"used\": 0,\n",
      "      \"resource\": \"search\"\n",
      "    }\n",
      "  },\n",
      "  \"rate\": {\n",
      "    \"limit\": 60,\n",
      "    \"remaining\": 60,\n",
      "    \"reset\": 1703643627,\n",
      "    \"used\": 0,\n",
      "    \"resource\": \"core\"\n",
      "  }\n",
      "}\n"
     ]
    }
   ],
   "source": [
    "def get_rate_limit():\n",
    "    resp = requests.get(\"https://api.github.com/rate_limit\")\n",
    "    # Check if the request was successful (status code 200)\n",
    "    if resp.status_code == 200:\n",
    "        try:\n",
    "            # Assuming the response content is in JSON format\n",
    "            json_data = resp.json()\n",
    "    \n",
    "            # Pretty print the JSON data\n",
    "            print(json.dumps(json_data, indent=2))\n",
    "        except json.JSONDecodeError as e:\n",
    "            print(f\"Error decoding JSON: {e}\")\n",
    "    else:\n",
    "        print(f\"Error: {response.status_code} - {response.text}\")\n",
    "get_rate_limit()"
   ]
  },
  {
   "cell_type": "code",
   "execution_count": null,
   "id": "47a46d30-12b2-4388-bf09-8177bde3dba6",
   "metadata": {},
   "outputs": [],
   "source": [
    "url = 'https://api.github.com/search/issues?q=is:issue%20repo:The-OpenROAD-Project/OpenROAD'\n",
    "\n",
    "range1 = "
   ]
  },
  {
   "cell_type": "code",
   "execution_count": null,
   "id": "e62969e0-475e-44e2-928c-e04b98c71ead",
   "metadata": {},
   "outputs": [],
   "source": []
  },
  {
   "cell_type": "code",
   "execution_count": null,
   "id": "9e4fca37-ee81-44b1-b0e7-4dcf8f490111",
   "metadata": {},
   "outputs": [],
   "source": []
  },
  {
   "cell_type": "code",
   "execution_count": null,
   "id": "6439e009-d03e-48d5-bfcd-f87068841345",
   "metadata": {},
   "outputs": [],
   "source": []
  },
  {
   "cell_type": "markdown",
   "id": "62a4fd3b-7a0c-46f1-a620-420f3192a70d",
   "metadata": {},
   "source": [
    "# Scraping github discussions\n",
    "\n",
    "- Slightly more involved, uses graphQL\n",
    "- https://docs.github.com/en/graphql/guides/using-the-graphql-api-for-discussions"
   ]
  },
  {
   "cell_type": "code",
   "execution_count": null,
   "id": "ffc63866-e629-44ae-84a4-d7e966e190cc",
   "metadata": {},
   "outputs": [],
   "source": []
  }
 ],
 "metadata": {
  "kernelspec": {
   "display_name": "Python 3 (ipykernel)",
   "language": "python",
   "name": "python3"
  },
  "language_info": {
   "codemirror_mode": {
    "name": "ipython",
    "version": 3
   },
   "file_extension": ".py",
   "mimetype": "text/x-python",
   "name": "python",
   "nbconvert_exporter": "python",
   "pygments_lexer": "ipython3",
   "version": "3.10.12"
  }
 },
 "nbformat": 4,
 "nbformat_minor": 5
}
