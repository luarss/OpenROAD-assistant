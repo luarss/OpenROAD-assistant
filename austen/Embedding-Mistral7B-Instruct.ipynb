{
 "cells": [
  {
   "cell_type": "markdown",
   "id": "120596f2-8749-40ae-ae47-c8ad09c91893",
   "metadata": {},
   "source": [
    "# Test notebook for generating embeddings\n",
    "- https://huggingface.co/spaces/mteb/leaderboard\n",
    "\n",
    "## Structure\n",
    "- Get text\n",
    "- Chunk text\n",
    "- Embed text\n",
    "- Retrieve text\n",
    "\n",
    "## TODO\n",
    "- https://stackoverflow.com/questions/10993612/how-to-remove-xa0-from-string-in-python\n",
    "- Improve embedding model. Current embedding model (all-MiniLM-L6-v2 is ranked 42th on the MTEB)\n",
    "- Improve vector store. QDrant?\n",
    "- To write benchmarking function, see how long each embedding model take.\n",
    "- Improve prompt model. Refer to https://github.com/tinygrad/tinygrad/blob/master/examples/llama.py\n",
    "- Use better model: Mistral-7B-instruct?? Refer to instruction format. https://huggingface.co/mistralai/Mistral-7B-Instruct-v0.1"
   ]
  },
  {
   "cell_type": "markdown",
   "id": "7e041b49-bd7c-49c8-be4a-807d1898becb",
   "metadata": {
    "jp-MarkdownHeadingCollapsed": true
   },
   "source": [
    "## Get text"
   ]
  },
  {
   "cell_type": "code",
   "execution_count": null,
   "id": "78675102-127c-4738-a4ca-92c6cc60b2c5",
   "metadata": {},
   "outputs": [],
   "source": [
    "import os \n",
    "import glob\n",
    "\n",
    "# Load data\n",
    "documents = []\n",
    "for name in glob.glob('./data/*.md'): \n",
    "    print(name) \n",
    "    documents.append(open(name, 'r').read())\n",
    "\n",
    "len(documents)"
   ]
  },
  {
   "cell_type": "markdown",
   "id": "948ada20-278f-4e17-9173-a26ee17f0c70",
   "metadata": {
    "jp-MarkdownHeadingCollapsed": true
   },
   "source": [
    "## Chunk texts"
   ]
  },
  {
   "cell_type": "code",
   "execution_count": null,
   "id": "cdf5722d-0d65-43a8-a4f3-ecbe9c0e476b",
   "metadata": {},
   "outputs": [],
   "source": [
    "import re\n",
    "\n",
    "text = documents[0]\n",
    "\n",
    "# Find and print all matching headers\n",
    "header_pattern = r'^#+ .+'\n",
    "headers = re.findall(header_pattern, text, re.MULTILINE)\n",
    "headers_to_split_on = []\n",
    "for i, header in enumerate(headers):\n",
    "    headers_to_split_on.append((header, f'Header {i}'))\n",
    "\n",
    "headers_to_split_on"
   ]
  },
  {
   "cell_type": "code",
   "execution_count": null,
   "id": "3891e57e-a3fd-46b0-ac17-75b04e2adc6b",
   "metadata": {},
   "outputs": [],
   "source": [
    "from langchain.text_splitter import CharacterTextSplitter, MarkdownHeaderTextSplitter\n",
    "from langchain.text_splitter import RecursiveCharacterTextSplitter\n",
    "\n",
    "# from langchain.vectorstores import Qdrant\n",
    "# from langchain.document_loaders import TextLoader\n",
    "\n",
    "markdown_splitter = MarkdownHeaderTextSplitter(headers_to_split_on=headers_to_split_on)\n",
    "md_header_splits = markdown_splitter.split_text(text)\n",
    "\n",
    "# Optional: We can do recursive splitting within each document\n",
    "# # Char-level splits\n",
    "\n",
    "# chunk_size = 250\n",
    "# chunk_overlap = 30\n",
    "# text_splitter = RecursiveCharacterTextSplitter(\n",
    "#     chunk_size=chunk_size, chunk_overlap=chunk_overlap\n",
    "# )\n",
    "\n",
    "# # Split\n",
    "# splits = text_splitter.split_documents(md_header_splits)\n",
    "# splits"
   ]
  },
  {
   "cell_type": "code",
   "execution_count": null,
   "id": "46bf873f-0823-4bb1-972d-0fa0942c5a68",
   "metadata": {},
   "outputs": [],
   "source": [
    "# Putting it together as a function\n",
    "# TODO: Document loading seems to remove the markdown headers by default. Is there any way to keep the headers?\n",
    "from langchain.text_splitter import CharacterTextSplitter, MarkdownHeaderTextSplitter\n",
    "from langchain.text_splitter import RecursiveCharacterTextSplitter\n",
    "import re\n",
    "\n",
    "def chunk(doc):\n",
    "    \"\"\"\n",
    "    Args:\n",
    "    doc - in Document format\n",
    "    \n",
    "    Output:\n",
    "    md_header_splits - markdown split format. Gives a more principled level of splitting \n",
    "    \"\"\"\n",
    "    text = doc.page_content\n",
    "    header_pattern = r'^#+ .+'\n",
    "    headers = re.findall(header_pattern, text, re.MULTILINE)\n",
    "    headers_to_split_on = []\n",
    "    for i, header in enumerate(headers):\n",
    "        headers_to_split_on.append((header, f'Header {i}'))\n",
    "    return headers_to_split_on\n",
    "    # markdown_splitter = MarkdownHeaderTextSplitter(headers_to_split_on=headers_to_split_on)\n",
    "    # md_header_splits = markdown_splitter.split_text(text)\n",
    "\n",
    "    # # Optional char-level splits within each document \n",
    "    # chunk_size = 250\n",
    "    # chunk_overlap = 30\n",
    "    # text_splitter = RecursiveCharacterTextSplitter(\n",
    "    #     chunk_size=chunk_size, chunk_overlap=chunk_overlap\n",
    "    # )\n",
    "    # splits = text_splitter.split_documents(md_header_splits)\n",
    "    # return splits\n",
    "\n",
    "\n",
    "chunk(documents[0])"
   ]
  },
  {
   "cell_type": "code",
   "execution_count": null,
   "id": "9b63a5a3-0537-41aa-96c9-27d66e6a33b5",
   "metadata": {},
   "outputs": [],
   "source": []
  },
  {
   "cell_type": "code",
   "execution_count": null,
   "id": "2f3573a2-e2ba-4818-ad18-0ffe5c2f2378",
   "metadata": {},
   "outputs": [],
   "source": []
  },
  {
   "cell_type": "code",
   "execution_count": null,
   "id": "bdc04a8d-dc78-4d24-a4c4-ff71fab1f21b",
   "metadata": {},
   "outputs": [],
   "source": []
  },
  {
   "cell_type": "markdown",
   "id": "38ee06d5-a1c8-4c00-b105-43a3a8f304f5",
   "metadata": {
    "jp-MarkdownHeadingCollapsed": true
   },
   "source": [
    "## Other embedding models"
   ]
  },
  {
   "cell_type": "code",
   "execution_count": null,
   "id": "680353c6-520f-405f-b4a9-1bc216ab8c79",
   "metadata": {},
   "outputs": [],
   "source": [
    "import torch.nn.functional as F\n",
    "from torch import Tensor\n",
    "from transformers import AutoTokenizer, AutoModel\n",
    "\n",
    "def average_pool(last_hidden_states: Tensor,\n",
    "                 attention_mask: Tensor) -> Tensor:\n",
    "    last_hidden = last_hidden_states.masked_fill(~attention_mask[..., None].bool(), 0.0)\n",
    "    return last_hidden.sum(dim=1) / attention_mask.sum(dim=1)[..., None]\n",
    "\n",
    "input_texts = [\n",
    "    \"what is the capital of China?\",\n",
    "    \"how to implement quick sort in python?\",\n",
    "    \"Beijing\",\n",
    "    \"sorting algorithms\"\n",
    "]\n",
    "\n",
    "tokenizer = AutoTokenizer.from_pretrained(\"thenlper/gte-base\")\n",
    "model = AutoModel.from_pretrained(\"thenlper/gte-base\")\n",
    "\n",
    "# Tokenize the input texts\n",
    "batch_dict = tokenizer(input_texts, max_length=512, padding=True, truncation=True, return_tensors='pt')\n",
    "\n",
    "outputs = model(**batch_dict)\n",
    "embeddings = average_pool(outputs.last_hidden_state, batch_dict['attention_mask'])\n",
    "\n",
    "# (Optionally) normalize embeddings\n",
    "embeddings = F.normalize(embeddings, p=2, dim=1)\n",
    "scores = (embeddings[:1] @ embeddings[1:].T) * 100\n",
    "print(scores.tolist())\n"
   ]
  },
  {
   "cell_type": "markdown",
   "id": "3d961752-9c4e-41b2-8eb2-2c9e04c199be",
   "metadata": {
    "jp-MarkdownHeadingCollapsed": true
   },
   "source": [
    "## Retriever"
   ]
  },
  {
   "cell_type": "code",
   "execution_count": null,
   "id": "461917b0-d884-4315-8ba5-15a7a63075b7",
   "metadata": {},
   "outputs": [],
   "source": [
    "from langchain.vectorstores import Qdrant\n",
    "qdrant = Qdrant.from_documents(\n",
    "    docs, embeddings, \n",
    "    location=\":memory:\",  # Local mode with in-memory storage only\n",
    "    collection_name=\"my_documents\",\n",
    ")\n"
   ]
  },
  {
   "cell_type": "code",
   "execution_count": null,
   "id": "ee8e95b7-7bd2-4fb0-b88d-c54608d881ff",
   "metadata": {},
   "outputs": [],
   "source": []
  },
  {
   "cell_type": "markdown",
   "id": "007894ae-bb64-466a-89b2-a3f3318ee363",
   "metadata": {
    "jp-MarkdownHeadingCollapsed": true
   },
   "source": [
    "## TF-IDF"
   ]
  },
  {
   "cell_type": "code",
   "execution_count": null,
   "id": "e69b3a8c-2639-4e11-99ac-cebd7657d120",
   "metadata": {},
   "outputs": [],
   "source": [
    "from langchain.retrievers import TFIDFRetriever\n",
    "retriever = TFIDFRetriever.from_texts([\"foo\", \"bar\", \"world\", \"hello\", \"foo bar\"])\n",
    "result = retriever.get_relevant_documents(\"foo\")\n",
    "result"
   ]
  },
  {
   "cell_type": "code",
   "execution_count": null,
   "id": "2cf3b2f4-b841-410e-9513-0ea10f671255",
   "metadata": {},
   "outputs": [],
   "source": []
  },
  {
   "cell_type": "markdown",
   "id": "391886e0-dfba-4f85-ac1e-1bcad28a82d0",
   "metadata": {},
   "source": [
    "## Main"
   ]
  },
  {
   "cell_type": "code",
   "execution_count": 1,
   "id": "445b466c-c108-4bab-9e7f-ab0b4fcbf74a",
   "metadata": {},
   "outputs": [
    {
     "name": "stdout",
     "output_type": "stream",
     "text": [
      "CPU times: user 3.34 s, sys: 2.07 s, total: 5.41 s\n",
      "Wall time: 3.22 s\n"
     ]
    }
   ],
   "source": [
    "%%time\n",
    "from langchain.document_loaders import TextLoader, DirectoryLoader\n",
    "from langchain.text_splitter import CharacterTextSplitter\n",
    "from langchain.embeddings import SentenceTransformerEmbeddings\n",
    "from langchain.vectorstores import Chroma\n",
    "from langchain.prompts import ChatPromptTemplate\n",
    "from langchain.chat_models import ChatOpenAI\n",
    "from langchain.schema.output_parser import StrOutputParser\n",
    "from langchain.schema.runnable import RunnablePassthrough\n",
    "\n",
    "# Step 1: Load the document(s) and split it into chunks\n",
    "# loader = DirectoryLoader(\"./data\", glob = \"*.md\")\n",
    "# documents = loader.load()\n",
    "# text_splitter = CharacterTextSplitter(chunk_size=1000, chunk_overlap=0)\n",
    "# chunks = text_splitter.split_documents(documents)\n",
    "\n",
    "# Step 2: Create embeddings\n",
    "embedding_model = SentenceTransformerEmbeddings(model_name=\"all-MiniLM-L6-v2\")\n",
    "# chunks2 = [x.page_content for x in chunks] # HFEmbeddings only accepts str\n",
    "# embeddings = embedding_model.embed_documents(chunks2)\n",
    "\n",
    "# Step 3: Store embeddings in ChromaDB and save locally.\n",
    "# db = Chroma.from_documents(chunks, embedding_model, persist_directory=\"./chroma_db\")\n",
    "db = Chroma(persist_directory=\"./chroma_db\", embedding_function=embedding_model)\n",
    "\n",
    "# Step 4: Create a retriever\n",
    "retriever = db.as_retriever()"
   ]
  },
  {
   "cell_type": "code",
   "execution_count": 2,
   "id": "dde3a7c4-b04b-4d47-adc5-cb5548f78827",
   "metadata": {},
   "outputs": [],
   "source": [
    "from llama_cpp import Llama\n",
    "\n",
    "def create_completion(question):\n",
    "    # Step 5: Define the prompt template\n",
    "    # source: https://chat.openai.com/share/c85e64f6-4dd2-4920-b82e-78f128898cbb\n",
    "    template = \"\"\"<s>[INST]You are now an expert in Jane Austen's novels. \n",
    "\n",
    "    \n",
    "    Here is an excerpt of text you may refer to:\n",
    "    {context}\n",
    "    \n",
    "    {question}[/INST]\"\"\"\n",
    "    prompt = ChatPromptTemplate.from_template(template)\n",
    "    \n",
    "    # Step 6: Generate a query and search for relevant chunks\n",
    "    context = db.similarity_search(question)[0].page_content\n",
    "    final_prompt = prompt.format_messages(context = context, question = question)[0].content\n",
    "    \n",
    "    # Step 7: Use llama-cpp-python as a prototype. \n",
    "    llm = Llama(model_path=\"../../llama.cpp/models/mistral-instruct/ggml-model-q4_0.gguf\", n_ctx=8000)\n",
    "    output = llm.create_completion(final_prompt,\n",
    "                                   suffix=None,\n",
    "                                   max_tokens=0, # set this to 0 for no limit on tokens (depend on n_ctx)\n",
    "                                   temperature=0.8, # higher temperature, more factual.\n",
    "                                   top_p=0.95,\n",
    "                                   logprobs=None,\n",
    "                                   echo=True,\n",
    "                                   stop=[],\n",
    "                                   frequency_penalty=0.0,\n",
    "                                   presence_penalty=0.0,\n",
    "                                   repeat_penalty=1.1,\n",
    "                                   top_k=40,\n",
    "                                   stream=False,\n",
    "                                   tfs_z=1.0,\n",
    "                                   mirostat_mode=0,\n",
    "                                   mirostat_tau=5.0,\n",
    "                                   mirostat_eta=0.1,\n",
    "                                   model=None,\n",
    "                                   stopping_criteria=None,\n",
    "                                   logits_processor=None)\n",
    "    return output\n",
    "# question = \"Why is Lizzy Mr. Bennet’s favorite daughter?\"\n",
    "# create_completion(question)"
   ]
  },
  {
   "cell_type": "markdown",
   "id": "31e9eb00-6c47-48dc-9408-233dfa8faf30",
   "metadata": {},
   "source": [
    "## This time around, use more factual questions\n",
    "Source : https://www.sparknotes.com/lit/pride/quiz/"
   ]
  },
  {
   "cell_type": "markdown",
   "id": "2e5bd90e-7e76-473c-9492-0b47d0ecda43",
   "metadata": {},
   "source": [
    "### Question 1"
   ]
  },
  {
   "cell_type": "code",
   "execution_count": null,
   "id": "ca9f6ba5-283b-441e-9a5f-b87761ceb838",
   "metadata": {},
   "outputs": [],
   "source": [
    "final_outputs = []\n",
    "question = \"The Bennet family lives in the village of ...\"\n",
    "while 1:\n",
    "    try:\n",
    "        final_outputs.append(create_completion(question)[\"choices\"][0][\"text\"])\n",
    "        if len(final_outputs) == 5: break\n",
    "    except:\n",
    "        continue"
   ]
  },
  {
   "cell_type": "code",
   "execution_count": 4,
   "id": "417b6f89-5390-4965-bd57-61a3f1ad0e6d",
   "metadata": {},
   "outputs": [
    {
     "name": "stdout",
     "output_type": "stream",
     "text": [
      "========0=======\n",
      "<s>[INST]You are now an expert in Jane Austen's novels. \n",
      "\n",
      "    \n",
      "    Here is an excerpt of text you may refer to:\n",
      "    Mr. Bennet’s property consisted almost entirely in an estate of two thousand a year, which, unfortunately for his daughters, was entailed, in default of heirs male, on a distant relation; and their mother’s fortune, though ample for her situation in life, could but ill supply the deficiency of his. Her father had been an attorney in Meryton, and had left her four thousand pounds.\n",
      "\n",
      "She had a sister married to a Mr. Phillips, who had been a clerk to their father and succeeded him in the business, and a brother settled in London in a respectable line of trade.\n",
      "    \n",
      "    The Bennet family lives in the village of ...[/INST] The Bennet family lives in Meryton, an imaginary village in England.\n",
      "===================\n",
      "========1=======\n",
      "<s>[INST]You are now an expert in Jane Austen's novels. \n",
      "\n",
      "    \n",
      "    Here is an excerpt of text you may refer to:\n",
      "    Mr. Bennet’s property consisted almost entirely in an estate of two thousand a year, which, unfortunately for his daughters, was entailed, in default of heirs male, on a distant relation; and their mother’s fortune, though ample for her situation in life, could but ill supply the deficiency of his. Her father had been an attorney in Meryton, and had left her four thousand pounds.\n",
      "\n",
      "She had a sister married to a Mr. Phillips, who had been a clerk to their father and succeeded him in the business, and a brother settled in London in a respectable line of trade.\n",
      "    \n",
      "    The Bennet family lives in the village of ...[/INST] Meryton.\n",
      "===================\n",
      "========2=======\n",
      "<s>[INST]You are now an expert in Jane Austen's novels. \n",
      "\n",
      "    \n",
      "    Here is an excerpt of text you may refer to:\n",
      "    Mr. Bennet’s property consisted almost entirely in an estate of two thousand a year, which, unfortunately for his daughters, was entailed, in default of heirs male, on a distant relation; and their mother’s fortune, though ample for her situation in life, could but ill supply the deficiency of his. Her father had been an attorney in Meryton, and had left her four thousand pounds.\n",
      "\n",
      "She had a sister married to a Mr. Phillips, who had been a clerk to their father and succeeded him in the business, and a brother settled in London in a respectable line of trade.\n",
      "    \n",
      "    The Bennet family lives in the village of ...[/INST] Meryton.\n",
      "===================\n",
      "========3=======\n",
      "<s>[INST]You are now an expert in Jane Austen's novels. \n",
      "\n",
      "    \n",
      "    Here is an excerpt of text you may refer to:\n",
      "    Mr. Bennet’s property consisted almost entirely in an estate of two thousand a year, which, unfortunately for his daughters, was entailed, in default of heirs male, on a distant relation; and their mother’s fortune, though ample for her situation in life, could but ill supply the deficiency of his. Her father had been an attorney in Meryton, and had left her four thousand pounds.\n",
      "\n",
      "She had a sister married to a Mr. Phillips, who had been a clerk to their father and succeeded him in the business, and a brother settled in London in a respectable line of trade.\n",
      "    \n",
      "    The Bennet family lives in the village of ...[/INST] The Bennet family lives in the village of Meryton, which is located in rural England. The family's property consists of an estate of two thousand acres that is entailed away, meaning it cannot be passed down to future generations unless there are male heirs. The family's mother also has a fortune of four thousand pounds, but this is not enough to sustain them. Mr. Bennet was once an attorney in Meryton and left his daughter Elizabeth four thousand pounds when he died.\n",
      "===================\n",
      "========4=======\n",
      "<s>[INST]You are now an expert in Jane Austen's novels. \n",
      "\n",
      "    \n",
      "    Here is an excerpt of text you may refer to:\n",
      "    Mr. Bennet’s property consisted almost entirely in an estate of two thousand a year, which, unfortunately for his daughters, was entailed, in default of heirs male, on a distant relation; and their mother’s fortune, though ample for her situation in life, could but ill supply the deficiency of his. Her father had been an attorney in Meryton, and had left her four thousand pounds.\n",
      "\n",
      "She had a sister married to a Mr. Phillips, who had been a clerk to their father and succeeded him in the business, and a brother settled in London in a respectable line of trade.\n",
      "    \n",
      "    The Bennet family lives in the village of ...[/INST] The Bennet family lives in the village of Meryton.\n",
      "===================\n"
     ]
    }
   ],
   "source": [
    "for i, output in enumerate(final_outputs):\n",
    "    print(f'========{i}=======')\n",
    "    print(output)\n",
    "    print('===================')"
   ]
  },
  {
   "cell_type": "markdown",
   "id": "3010459f-392e-4c5f-8d9d-260d2f461c19",
   "metadata": {},
   "source": [
    "### Question 2"
   ]
  },
  {
   "cell_type": "code",
   "execution_count": null,
   "id": "83bf0715-6bca-4f64-a4a6-30165c20aab3",
   "metadata": {
    "scrolled": true
   },
   "outputs": [],
   "source": [
    "final_outputs = []\n",
    "question = \"Mr. Bingley, when he attends the ball in Meryton, seems to be quite taken with ...\"\n",
    "while 1:\n",
    "    try:\n",
    "        final_outputs.append(create_completion(question)[\"choices\"][0][\"text\"])\n",
    "        if len(final_outputs) == 5: break\n",
    "    except:\n",
    "        continue"
   ]
  },
  {
   "cell_type": "code",
   "execution_count": 6,
   "id": "8b3a6fbc-bf6f-4045-8393-5a0a9d921107",
   "metadata": {
    "scrolled": true
   },
   "outputs": [
    {
     "name": "stdout",
     "output_type": "stream",
     "text": [
      "========0=======\n",
      "<s>[INST]You are now an expert in Jane Austen's novels. \n",
      "\n",
      "    \n",
      "    Here is an excerpt of text you may refer to:\n",
      "    Mr. Bingley and Jane remained at Netherfield only a twelvemonth. So near a vicinity to her mother and Meryton relations was not desirable even to his easy temper, or her affectionate heart. The darling wish of his sisters was then gratified; he bought an estate in a neighbouring county to Derbyshire, and Jane and Elizabeth, in addition to every other source of happiness, were within thirty miles of each other.\n",
      "    \n",
      "    Mr. Bingley, when he attends the ball in Meryton, seems to be quite taken with ...[/INST] As an expert in Jane Austen's novels, I can provide some context and analysis on the excerpt you provided.\n",
      "\n",
      "The text you provided comes from \"Pride and Prejudice,\" one of Austen's most famous works. It describes Mr. Bingley and his relationship with Jane Bennet, the protagonist of the novel. The two are initially acquainted at the beginning of the book, but their feelings for each other develop over time.\n",
      "\n",
      "In this excerpt, Mr. Bingley and Jane stay in Netherfield only for a year before moving to an estate closer to Jane's family in Meryton. This move is significant because it brings them closer to each other and allows them to spend more time together. Mr. Bingley's sisters are also pleased with this arrangement, as they want him to be near his family.\n",
      "\n",
      "Mr. Bingley's love for Jane is further emphasized when he attends the ball in Meryton, where he seems taken with her presence. This suggests that he has feelings for her and that their relationship may develop further. However, there are also obstacles to their happiness, as Mr. Bingley's friend Charles Bingley initially tries to persuade him to marry another woman. Ultimately, however, Mr. Bingley overcomes these obstacles and marries Jane, demonstrating his love for her and the strength of their relationship.\n",
      "===================\n",
      "========1=======\n",
      "<s>[INST]You are now an expert in Jane Austen's novels. \n",
      "\n",
      "    \n",
      "    Here is an excerpt of text you may refer to:\n",
      "    Mr. Bingley and Jane remained at Netherfield only a twelvemonth. So near a vicinity to her mother and Meryton relations was not desirable even to his easy temper, or her affectionate heart. The darling wish of his sisters was then gratified; he bought an estate in a neighbouring county to Derbyshire, and Jane and Elizabeth, in addition to every other source of happiness, were within thirty miles of each other.\n",
      "    \n",
      "    Mr. Bingley, when he attends the ball in Meryton, seems to be quite taken with ...[/INST] Elizabeth Bennet. He is very interested in getting to know her better and is clearly smitten with her. He even dances with her several times throughout the evening. However, his behavior is reserved and he does not openly declare his feelings for her. He instead tries to impress her with his wit and charm. Overall, Mr. Bingley's behavior at the ball indicates that he is a complex character who values both propriety and personal happiness.\n",
      "===================\n",
      "========2=======\n",
      "<s>[INST]You are now an expert in Jane Austen's novels. \n",
      "\n",
      "    \n",
      "    Here is an excerpt of text you may refer to:\n",
      "    Mr. Bingley and Jane remained at Netherfield only a twelvemonth. So near a vicinity to her mother and Meryton relations was not desirable even to his easy temper, or her affectionate heart. The darling wish of his sisters was then gratified; he bought an estate in a neighbouring county to Derbyshire, and Jane and Elizabeth, in addition to every other source of happiness, were within thirty miles of each other.\n",
      "    \n",
      "    Mr. Bingley, when he attends the ball in Meryton, seems to be quite taken with ...[/INST] Mr. Bingley's interest in Elizabeth Bennet at the ball in Meryton is not explicitly stated in the provided excerpt. However, it can be inferred that his easy temper and affectionate heart contributed to his desire to be nearer to her and the satisfaction of his sisters' wishes in buying an estate within thirty miles of each other.\n",
      "===================\n",
      "========3=======\n",
      "<s>[INST]You are now an expert in Jane Austen's novels. \n",
      "\n",
      "    \n",
      "    Here is an excerpt of text you may refer to:\n",
      "    Mr. Bingley and Jane remained at Netherfield only a twelvemonth. So near a vicinity to her mother and Meryton relations was not desirable even to his easy temper, or her affectionate heart. The darling wish of his sisters was then gratified; he bought an estate in a neighbouring county to Derbyshire, and Jane and Elizabeth, in addition to every other source of happiness, were within thirty miles of each other.\n",
      "    \n",
      "    Mr. Bingley, when he attends the ball in Meryton, seems to be quite taken with ...[/INST] It is not specified who or what Mr. Bingley was taken with at the ball in Meryton.\n",
      "===================\n",
      "========4=======\n",
      "<s>[INST]You are now an expert in Jane Austen's novels. \n",
      "\n",
      "    \n",
      "    Here is an excerpt of text you may refer to:\n",
      "    Mr. Bingley and Jane remained at Netherfield only a twelvemonth. So near a vicinity to her mother and Meryton relations was not desirable even to his easy temper, or her affectionate heart. The darling wish of his sisters was then gratified; he bought an estate in a neighbouring county to Derbyshire, and Jane and Elizabeth, in addition to every other source of happiness, were within thirty miles of each other.\n",
      "    \n",
      "    Mr. Bingley, when he attends the ball in Meryton, seems to be quite taken with ...[/INST] Sorry for the abrupt cut-off earlier. Continuing from where we left off:\n",
      "\n",
      "Mr. Bingley, when he attends the ball in Meryton, seems to be quite taken with Elizabeth's company. He is very attentive to her, complimenting her on her appearance and engaging her in conversation. Jane notices this behavior and becomes jealous of Elizabeth. However, as the night wears on, Mr. Bingley's attention begins to wane, and he eventually leaves the ball with his sisters, leaving Elizabeth feeling hurt and disappointed.\n",
      "===================\n"
     ]
    }
   ],
   "source": [
    "for i, output in enumerate(final_outputs):\n",
    "    print(f'========{i}=======')\n",
    "    print(output)\n",
    "    print('===================')"
   ]
  },
  {
   "cell_type": "markdown",
   "id": "16eb51ca-1116-45fe-b48a-1b31dac036b9",
   "metadata": {},
   "source": [
    "### Question 3"
   ]
  },
  {
   "cell_type": "code",
   "execution_count": null,
   "id": "e4be1851-a028-4e03-98dc-2e2d2f17f0a2",
   "metadata": {
    "scrolled": true
   },
   "outputs": [],
   "source": [
    "final_outputs = []\n",
    "question = \"How does Mr. Darcy offend Elizabeth at the first ball?\"\n",
    "while 1:\n",
    "    try:\n",
    "        final_outputs.append(create_completion(question)[\"choices\"][0][\"text\"])\n",
    "        if len(final_outputs) == 5: break\n",
    "    except:\n",
    "        continue"
   ]
  },
  {
   "cell_type": "code",
   "execution_count": 8,
   "id": "42978027-7f8e-4bf0-8654-ba5ac4f6e821",
   "metadata": {
    "scrolled": true
   },
   "outputs": [
    {
     "name": "stdout",
     "output_type": "stream",
     "text": [
      "========0=======\n",
      "<s>[INST]You are now an expert in Jane Austen's novels. \n",
      "\n",
      "    \n",
      "    Here is an excerpt of text you may refer to:\n",
      "    He shook his head. “I wish I could call her amiable. It gives me pain to speak ill of a Darcy. But she is too much like her brother—very, very proud. As a child, she was affectionate and pleasing, and extremely fond of me; and I have devoted hours and hours to her amusement. But she is nothing to me now. She is a handsome girl, about fifteen or sixteen, and, I understand, highly accomplished. Since her father’s death, her home has been London, where a lady lives with her, and superintends her education.”\n",
      "\n",
      "After many pauses and many trials of other subjects, Elizabeth could not help reverting once more to the first, and saying:\n",
      "\n",
      "“I am astonished at his intimacy with Mr. Bingley! How can Mr. Bingley, who seems good humour itself, and is, I really believe, truly amiable, be in friendship with such a man? How can they suit each other? Do you know Mr. Bingley?”\n",
      "\n",
      "“Not at all.”\n",
      "\n",
      "“He is a sweet-tempered, amiable, charming man. He cannot know what Mr. Darcy is.”\n",
      "    \n",
      "    How does Mr. Darcy offend Elizabeth at the first ball?[/INST] At the first ball, Mr. Darcy offends Elizabeth by being overly formal and aloof. He does not dance with her or any other lady, and he appears to be enjoying himself more by observing others than by participating in the festivities. Additionally, when he speaks to her, he is cold and condescending, making an offhand comment about her being too much like her brother, which implies that she is proud and arrogant like Mr. Darcy himself. This behavior creates a negative first impression of Mr. Darcy in Elizabeth's eyes.\n",
      "===================\n",
      "========1=======\n",
      "<s>[INST]You are now an expert in Jane Austen's novels. \n",
      "\n",
      "    \n",
      "    Here is an excerpt of text you may refer to:\n",
      "    He shook his head. “I wish I could call her amiable. It gives me pain to speak ill of a Darcy. But she is too much like her brother—very, very proud. As a child, she was affectionate and pleasing, and extremely fond of me; and I have devoted hours and hours to her amusement. But she is nothing to me now. She is a handsome girl, about fifteen or sixteen, and, I understand, highly accomplished. Since her father’s death, her home has been London, where a lady lives with her, and superintends her education.”\n",
      "\n",
      "After many pauses and many trials of other subjects, Elizabeth could not help reverting once more to the first, and saying:\n",
      "\n",
      "“I am astonished at his intimacy with Mr. Bingley! How can Mr. Bingley, who seems good humour itself, and is, I really believe, truly amiable, be in friendship with such a man? How can they suit each other? Do you know Mr. Bingley?”\n",
      "\n",
      "“Not at all.”\n",
      "\n",
      "“He is a sweet-tempered, amiable, charming man. He cannot know what Mr. Darcy is.”\n",
      "    \n",
      "    How does Mr. Darcy offend Elizabeth at the first ball?[/INST] At the first ball, Mr. Darcy offends Elizabeth by insulting her family and their social status. He refers to her father as a \"country gentleman\" and implies that he is not of equal standing to the wealthy and powerful aristocracy that he and the other guests belong to. He also makes a snide comment about her sister Jane's \"amiable\" nature, which implies that Elizabeth herself lacks charm and appeal. These comments hurt Elizabeth's pride and make her feel inferior to Mr. Darcy and his circle of friends.\n",
      "===================\n",
      "========2=======\n",
      "<s>[INST]You are now an expert in Jane Austen's novels. \n",
      "\n",
      "    \n",
      "    Here is an excerpt of text you may refer to:\n",
      "    He shook his head. “I wish I could call her amiable. It gives me pain to speak ill of a Darcy. But she is too much like her brother—very, very proud. As a child, she was affectionate and pleasing, and extremely fond of me; and I have devoted hours and hours to her amusement. But she is nothing to me now. She is a handsome girl, about fifteen or sixteen, and, I understand, highly accomplished. Since her father’s death, her home has been London, where a lady lives with her, and superintends her education.”\n",
      "\n",
      "After many pauses and many trials of other subjects, Elizabeth could not help reverting once more to the first, and saying:\n",
      "\n",
      "“I am astonished at his intimacy with Mr. Bingley! How can Mr. Bingley, who seems good humour itself, and is, I really believe, truly amiable, be in friendship with such a man? How can they suit each other? Do you know Mr. Bingley?”\n",
      "\n",
      "“Not at all.”\n",
      "\n",
      "“He is a sweet-tempered, amiable, charming man. He cannot know what Mr. Darcy is.”\n",
      "    \n",
      "    How does Mr. Darcy offend Elizabeth at the first ball?[/INST] In the excerpt you provided, Mr. Darcy offends Elizabeth at the first ball by describing her as \"very, very proud,\" which implies that she is arrogant and haughty. He also mentions that since her father's death, her home has been in London, where a lady lives with her and superintends her education, which suggests that she may be spoiled and entitled. Elizabeth takes offense to these remarks and feels that he is judging her solely based on her social status and upbringing.\n",
      "===================\n",
      "========3=======\n",
      "<s>[INST]You are now an expert in Jane Austen's novels. \n",
      "\n",
      "    \n",
      "    Here is an excerpt of text you may refer to:\n",
      "    He shook his head. “I wish I could call her amiable. It gives me pain to speak ill of a Darcy. But she is too much like her brother—very, very proud. As a child, she was affectionate and pleasing, and extremely fond of me; and I have devoted hours and hours to her amusement. But she is nothing to me now. She is a handsome girl, about fifteen or sixteen, and, I understand, highly accomplished. Since her father’s death, her home has been London, where a lady lives with her, and superintends her education.”\n",
      "\n",
      "After many pauses and many trials of other subjects, Elizabeth could not help reverting once more to the first, and saying:\n",
      "\n",
      "“I am astonished at his intimacy with Mr. Bingley! How can Mr. Bingley, who seems good humour itself, and is, I really believe, truly amiable, be in friendship with such a man? How can they suit each other? Do you know Mr. Bingley?”\n",
      "\n",
      "“Not at all.”\n",
      "\n",
      "“He is a sweet-tempered, amiable, charming man. He cannot know what Mr. Darcy is.”\n",
      "    \n",
      "    How does Mr. Darcy offend Elizabeth at the first ball?[/INST] Mr. Darcy offends Elizabeth at the first ball by making sarcastic comments about her family's status and connections. He also makes a snide remark about her sister Jane being \"an agreeable young lady,\" implying that she is only pretty and not intelligent. Additionally, he makes an offhand comment about Mr. Bingley's fortune, suggesting that he is only interested in marrying for financial gain. These comments show Darcy's pride and elitism, which Elizabeth finds offensive.\n",
      "===================\n",
      "========4=======\n",
      "<s>[INST]You are now an expert in Jane Austen's novels. \n",
      "\n",
      "    \n",
      "    Here is an excerpt of text you may refer to:\n",
      "    He shook his head. “I wish I could call her amiable. It gives me pain to speak ill of a Darcy. But she is too much like her brother—very, very proud. As a child, she was affectionate and pleasing, and extremely fond of me; and I have devoted hours and hours to her amusement. But she is nothing to me now. She is a handsome girl, about fifteen or sixteen, and, I understand, highly accomplished. Since her father’s death, her home has been London, where a lady lives with her, and superintends her education.”\n",
      "\n",
      "After many pauses and many trials of other subjects, Elizabeth could not help reverting once more to the first, and saying:\n",
      "\n",
      "“I am astonished at his intimacy with Mr. Bingley! How can Mr. Bingley, who seems good humour itself, and is, I really believe, truly amiable, be in friendship with such a man? How can they suit each other? Do you know Mr. Bingley?”\n",
      "\n",
      "“Not at all.”\n",
      "\n",
      "“He is a sweet-tempered, amiable, charming man. He cannot know what Mr. Darcy is.”\n",
      "    \n",
      "    How does Mr. Darcy offend Elizabeth at the first ball?[/INST] Mr. Darcy offends Elizabeth at the first ball by being too proud to dance with her. When Elizabeth asks Mr. Bingley to introduce her to Mr. Darcy, he does so but only after a long pause and hesitation, which suggests that he finds it difficult to do so. This indicates that Mr. Darcy is not interested in dancing with Elizabeth and that he sees himself as superior to her socially. Additionally, when they are finally introduced, Mr. Darcy's behavior is cold and distant, further offending Elizabeth. Overall, Mr. Darcy's behavior at the first ball suggests that he views Elizabeth as beneath him and that he is not interested in getting to know her as a person.\n",
      "===================\n"
     ]
    }
   ],
   "source": [
    "for i, output in enumerate(final_outputs):\n",
    "    print(f'========{i}=======')\n",
    "    print(output)\n",
    "    print('===================')"
   ]
  },
  {
   "cell_type": "markdown",
   "id": "765f0d7d-e22a-42e6-90b8-1328aae08961",
   "metadata": {},
   "source": [
    "## Baseline: No RAG"
   ]
  },
  {
   "cell_type": "code",
   "execution_count": 9,
   "id": "636a4c07-7717-4a75-8023-80730726975d",
   "metadata": {},
   "outputs": [],
   "source": [
    "from llama_cpp import Llama\n",
    "\n",
    "def create_no_rag_completion(question):\n",
    "    # Step 5: Define the prompt template\n",
    "    # source: https://chat.openai.com/share/c85e64f6-4dd2-4920-b82e-78f128898cbb\n",
    "    template = \"\"\"<s>[INST]You are now an expert in Jane Austen's novels. \n",
    "    \n",
    "    {question}[/INST]\"\"\"\n",
    "    prompt = ChatPromptTemplate.from_template(template)\n",
    "    final_prompt = prompt.format_messages(question = question)[0].content\n",
    "    \n",
    "    # Step 7: Use llama-cpp-python as a prototype. \n",
    "    llm = Llama(model_path=\"../../llama.cpp/models/mistral-instruct/ggml-model-q4_0.gguf\", n_ctx=8000)\n",
    "    output = llm.create_completion(final_prompt,\n",
    "                                   suffix=None,\n",
    "                                   max_tokens=0, # set this to 0 for no limit on tokens (depend on n_ctx)\n",
    "                                   temperature=0.8, # higher temperature, more factual.\n",
    "                                   top_p=0.95,\n",
    "                                   logprobs=None,\n",
    "                                   echo=True,\n",
    "                                   stop=[],\n",
    "                                   frequency_penalty=0.0,\n",
    "                                   presence_penalty=0.0,\n",
    "                                   repeat_penalty=1.1,\n",
    "                                   top_k=40,\n",
    "                                   stream=False,\n",
    "                                   tfs_z=1.0,\n",
    "                                   mirostat_mode=0,\n",
    "                                   mirostat_tau=5.0,\n",
    "                                   mirostat_eta=0.1,\n",
    "                                   model=None,\n",
    "                                   stopping_criteria=None,\n",
    "                                   logits_processor=None)\n",
    "    return output\n",
    "# question = \"Why is Lizzy Mr. Bennet’s favorite daughter?\"\n",
    "# create_no_rag_completion(question)"
   ]
  },
  {
   "cell_type": "markdown",
   "id": "c18d3b4a-bfc8-4112-bc6e-ab6ce4787559",
   "metadata": {},
   "source": [
    "### Question 1"
   ]
  },
  {
   "cell_type": "code",
   "execution_count": null,
   "id": "bc6540c5-a6f2-4911-a2cf-4228200def65",
   "metadata": {},
   "outputs": [],
   "source": [
    "final_outputs = []\n",
    "question = \"The Bennet family lives in the village of ...\"\n",
    "while 1:\n",
    "    try:\n",
    "        final_outputs.append(create_no_rag_completion(question)[\"choices\"][0][\"text\"])\n",
    "        if len(final_outputs) == 5: break\n",
    "    except:\n",
    "        continue"
   ]
  },
  {
   "cell_type": "code",
   "execution_count": 11,
   "id": "dc1d26ce-7b72-4f08-9356-71faf45f888d",
   "metadata": {},
   "outputs": [
    {
     "name": "stdout",
     "output_type": "stream",
     "text": [
      "========0=======\n",
      "<s>[INST]You are now an expert in Jane Austen's novels. \n",
      "    \n",
      "    The Bennet family lives in the village of ...[/INST] The Bennet family lives in the village of Meryton, which is located in the fictional county of Hertfordshire, England, in the late 18th century.\n",
      "===================\n",
      "========1=======\n",
      "<s>[INST]You are now an expert in Jane Austen's novels. \n",
      "    \n",
      "    The Bennet family lives in the village of ...[/INST] the Bennet family lives in the village of Meryton, located in the fictional county of Hertfordshire, England.\n",
      "===================\n",
      "========2=======\n",
      "<s>[INST]You are now an expert in Jane Austen's novels. \n",
      "    \n",
      "    The Bennet family lives in the village of ...[/INST] Meryton\n",
      "===================\n",
      "========3=======\n",
      "<s>[INST]You are now an expert in Jane Austen's novels. \n",
      "    \n",
      "    The Bennet family lives in the village of ...[/INST] The Bennet family, the central characters of Jane Austen's \"Pride and Prejudice\", resides in the village of Meryton in Hertfordshire, England during the Regency era.\n",
      "===================\n",
      "========4=======\n",
      "<s>[INST]You are now an expert in Jane Austen's novels. \n",
      "    \n",
      "    The Bennet family lives in the village of ...[/INST] Meryton, which is located near the city of London in England. The family consists of Mr. and Mrs. Bennet and their five daughters: Elizabeth, Jane, Mary, Kitty, and Lydia.\n",
      "===================\n"
     ]
    }
   ],
   "source": [
    "for i, output in enumerate(final_outputs):\n",
    "    print(f'========{i}=======')\n",
    "    print(output)\n",
    "    print('===================')"
   ]
  },
  {
   "cell_type": "markdown",
   "id": "b1f5bcd5-6e9d-4d60-8bcb-0e750b2d7739",
   "metadata": {},
   "source": [
    "### Question 2"
   ]
  },
  {
   "cell_type": "code",
   "execution_count": null,
   "id": "46e6e047-09c6-43df-ac0d-52c58878f123",
   "metadata": {
    "scrolled": true
   },
   "outputs": [],
   "source": [
    "final_outputs = []\n",
    "question = \"Mr. Bingley, when he attends the ball in Meryton, seems to be quite taken with ...\"\n",
    "while 1:\n",
    "    try:\n",
    "        final_outputs.append(create_no_rag_completion(question)[\"choices\"][0][\"text\"])\n",
    "        if len(final_outputs) == 5: break\n",
    "    except:\n",
    "        continue"
   ]
  },
  {
   "cell_type": "code",
   "execution_count": 13,
   "id": "11ad0c8a-ed13-4135-91ed-9b6ae6a0fb57",
   "metadata": {
    "scrolled": true
   },
   "outputs": [
    {
     "name": "stdout",
     "output_type": "stream",
     "text": [
      "========0=======\n",
      "<s>[INST]You are now an expert in Jane Austen's novels. \n",
      "    \n",
      "    Mr. Bingley, when he attends the ball in Meryton, seems to be quite taken with ...[/INST] Elizabeth Bennet, who attends the same ball. The two strike up a conversation and become fast friends, bonding over their shared love of books and intellectual pursuits. As the night wears on, it becomes clear that Mr. Bingley is smitten with Elizabeth, but she is hesitant to reciprocate his feelings due to her family's lower social standing. However, as they continue to engage in lively debates and discussions, Elizabeth begins to see Mr. Bingley in a new light and realizes that he may be the one for her after all.\n",
      "===================\n",
      "========1=======\n",
      "<s>[INST]You are now an expert in Jane Austen's novels. \n",
      "    \n",
      "    Mr. Bingley, when he attends the ball in Meryton, seems to be quite taken with ...[/INST] Mr. Darcy. Despite his initial aloofness and reserve, Mr. Bingley is intrigued by Mr. Darcy's intelligence, charm, and wit. He also recognizes Mr. Darcy's social status and wealth, which makes him an attractive partner for marriage. However, Mr. Bingley is aware of the potential obstacles to their relationship, such as their differing personalities and the disapproval of his sisters, particularly Jane. Despite these challenges, he remains interested in getting to know Mr. Darcy better and ultimately falls in love with him.\n",
      "===================\n",
      "========2=======\n",
      "<s>[INST]You are now an expert in Jane Austen's novels. \n",
      "    \n",
      "    Mr. Bingley, when he attends the ball in Meryton, seems to be quite taken with ...[/INST] When Mr. Bingley attends the ball in Meryton, he seems to be quite taken with Elizabeth Bennet. He is intrigued by her wit and intelligence, and he finds himself drawn to her. Throughout the evening, he engages her in conversation and dances with her several times. He also makes an effort to impress her family, particularly Mr. Darcy, who he sees as a rival for Elizabeth's affections. Despite his initial reservations about Elizabeth, Mr. Bingley comes to admire her more and more as the evening wears on.\n",
      "===================\n",
      "========3=======\n",
      "<s>[INST]You are now an expert in Jane Austen's novels. \n",
      "    \n",
      "    Mr. Bingley, when he attends the ball in Meryton, seems to be quite taken with ...[/INST] When Mr. Bingley attends the ball in Meryton, he is immediately struck by the beauty and charm of Miss Elizabeth Bennet. He finds himself drawn to her throughout the evening, engaging her in conversation and expressing his admiration for her wit and intelligence.\n",
      "\n",
      "Throughout the evening, Mr. Bingley tries to make an impression on Miss Elizabeth, flattering her and making small talk about her family and interests. He is clearly fascinated by her, but also tries to maintain a polite distance, aware of the social conventions of the time and not wishing to overstep boundaries.\n",
      "\n",
      "Miss Elizabeth, for her part, is also attracted to Mr. Bingley, recognizing his wealth and status as well as his intelligence and good manners. However, she is also wary of becoming too involved with someone of such a high social standing, aware of the potential complications that could arise from any relationship between them.\n",
      "\n",
      "Overall, Mr. Bingley's behavior at the ball in Meryton reflects his desire to maintain a respectful distance while also expressing his admiration for Miss Elizabeth. It is clear that he is smitten with her, but he is also mindful of the social conventions and potential complications that any relationship between them might involve.\n",
      "===================\n",
      "========4=======\n",
      "<s>[INST]You are now an expert in Jane Austen's novels. \n",
      "    \n",
      "    Mr. Bingley, when he attends the ball in Meryton, seems to be quite taken with ...[/INST] Elizabeth Bennet. He is intrigued by her wit and intelligence, as well as her independence of mind and confidence. Despite his initial shyness, he finds himself drawn to her and hopes to get to know her better throughout the evening.\n",
      "===================\n"
     ]
    }
   ],
   "source": [
    "for i, output in enumerate(final_outputs):\n",
    "    print(f'========{i}=======')\n",
    "    print(output)\n",
    "    print('===================')"
   ]
  },
  {
   "cell_type": "markdown",
   "id": "6c594b41-92f0-4f96-b78c-ad96c3f92719",
   "metadata": {},
   "source": [
    "### Question 3"
   ]
  },
  {
   "cell_type": "code",
   "execution_count": null,
   "id": "5923787d-612a-4add-b3a0-c17dd7758474",
   "metadata": {
    "scrolled": true
   },
   "outputs": [],
   "source": [
    "final_outputs = []\n",
    "question = \"How does Mr. Darcy offend Elizabeth at the first ball?\"\n",
    "while 1:\n",
    "    try:\n",
    "        final_outputs.append(create_no_rag_completion(question)[\"choices\"][0][\"text\"])\n",
    "        if len(final_outputs) == 5: break\n",
    "    except:\n",
    "        continue"
   ]
  },
  {
   "cell_type": "code",
   "execution_count": 15,
   "id": "706e5499-6aea-4e9a-a7c6-53ee4aa582f2",
   "metadata": {
    "scrolled": true
   },
   "outputs": [
    {
     "name": "stdout",
     "output_type": "stream",
     "text": [
      "========0=======\n",
      "<s>[INST]You are now an expert in Jane Austen's novels. \n",
      "    \n",
      "    How does Mr. Darcy offend Elizabeth at the first ball?[/INST] At the first ball, Mr. Darcy offends Elizabeth by behaving in a cold and aloof manner, which makes her feel uncomfortable and unimportant. He also makes an offensive comment about her family's connections to the lower class, which Elizabeth finds insulting. Additionally, he dances with another woman, causing Elizabeth to feel jealous and hurt. All of these actions contribute to Elizabeth forming a negative first impression of Mr. Darcy.\n",
      "===================\n",
      "========1=======\n",
      "<s>[INST]You are now an expert in Jane Austen's novels. \n",
      "    \n",
      "    How does Mr. Darcy offend Elizabeth at the first ball?[/INST] Mr. Darcy offends Elizabeth at the first ball by making her feel like she is not socially acceptable enough to dance with him. When they are introduced, he makes a point to say that he was only dancing with her because his friend, Bingley, had convinced him to do so. He also seems somewhat cold and distant, which does not make Elizabeth feel comfortable around him. Additionally, when they are dancing, Mr. Darcy appears to be trying to impress others with his skill on the dance floor rather than simply enjoying the company of Elizabeth. Overall, Mr. Darcy's behavior at the first ball gives Elizabeth a negative impression of him and makes her hesitant to interact with him in the future.\n",
      "===================\n",
      "========2=======\n",
      "<s>[INST]You are now an expert in Jane Austen's novels. \n",
      "    \n",
      "    How does Mr. Darcy offend Elizabeth at the first ball?[/INST] At the first ball, Mr. Darcy offends Elizabeth by ignoring her and not dancing with her. He also makes a snobbish comment about the music, which implies that he thinks the ball is beneath him. Additionally, when he does finally dance with her, he behaves coldly and indifferently, failing to show any interest or enthusiasm. Overall, Mr. Darcy's behavior at the first ball is rude, condescending, and unappealing to Elizabeth.\n",
      "===================\n",
      "========3=======\n",
      "<s>[INST]You are now an expert in Jane Austen's novels. \n",
      "    \n",
      "    How does Mr. Darcy offend Elizabeth at the first ball?[/INST] At the first ball, Mr. Darcy offends Elizabeth by repeatedly making small talk about her family and their connections to other people, rather than engaging with her on a more personal level. He also expresses his disapproval of some of her family members, particularly her Uncle Gardiner, who he sees as a fraud and a scoundrel. This behavior suggests that Mr. Darcy has a condescending attitude towards those from lower social classes, which further offends Elizabeth. Additionally, Mr. Darcy is seen as aloof and arrogant, which makes it difficult for others to get to know him on a deeper level. Overall, Mr. Darcy's behavior at the first ball sets off an initial negative impression in Elizabeth's mind, even though she later comes to see him in a different light.\n",
      "===================\n",
      "========4=======\n",
      "<s>[INST]You are now an expert in Jane Austen's novels. \n",
      "    \n",
      "    How does Mr. Darcy offend Elizabeth at the first ball?[/INST] At the first ball, Mr. Darcy offends Elizabeth by being too proud and arrogant to dance with her. He also makes assumptions about her social status and background, which he finds beneath his own. Additionally, he is dismissive of her opinions and ideas, further alienating her from him.\n",
      "===================\n"
     ]
    }
   ],
   "source": [
    "for i, output in enumerate(final_outputs):\n",
    "    print(f'========{i}=======')\n",
    "    print(output)\n",
    "    print('===================')"
   ]
  },
  {
   "cell_type": "code",
   "execution_count": null,
   "id": "4a7472b0-2543-4691-a5d9-956e5c4c8d79",
   "metadata": {},
   "outputs": [],
   "source": [
    "# # Sample code for perplexity taken from: https://www.educative.io/answers/what-is-perplexity-in-nlp\n",
    "# import torch\n",
    "# from transformers import AutoModelForCausalLM, AutoTokenizer\n",
    "# from datasets import load_dataset\n",
    "# from tqdm import tqdm\n",
    "\n",
    "# # Setup device and model parameters\n",
    "# device = torch.device(\"cuda\" if torch.cuda.is_available() else \"cpu\")\n",
    "# model_name = \"gpt2-large\"\n",
    "\n",
    "# # Load the model and the tokenizer\n",
    "# # - https://stackoverflow.com/questions/64001128/load-a-pre-trained-model-from-disk-with-huggingface-transformers\n",
    "# model = AutoModelForCausalLM.from_pretrained(model_name).to(device)\n",
    "# tokenizer = AutoTokenizer.from_pretrained(model_name)\n",
    "\n",
    "# # Load test dataset\n",
    "# wikitext_test = load_dataset(\"wikitext\", \"wikitext-2-raw-v1\", split=\"test\")\n",
    "\n",
    "# # Text encoding\n",
    "# encoded_text = tokenizer(\"\\n\\n\".join(wikitext_test[\"text\"]), return_tensors=\"pt\")\n",
    "\n",
    "# # Model configuration parameters\n",
    "# max_length = model.config.n_positions\n",
    "# stride = 512\n",
    "# sequence_length = encoded_text.input_ids.size(1)\n",
    "\n",
    "# # Initialize negative log likelihoods list and previous end location\n",
    "# negative_log_likelihoods = []\n",
    "# previous_end_loc = 0\n",
    "\n",
    "# # Processing data in strides\n",
    "# for start_loc in tqdm(range(0, sequence_length, stride)):\n",
    "#     end_loc = min(start_loc + max_length, sequence_length)\n",
    "#     target_length = end_loc - previous_end_loc\n",
    "\n",
    "#     # Prepare input and target ids\n",
    "#     input_ids = encoded_text.input_ids[:, start_loc:end_loc].to(device)\n",
    "#     target_ids = input_ids.clone()\n",
    "#     target_ids[:, :-target_length] = -100\n",
    "\n",
    "#     # Calculate negative log likelihood without gradient computation\n",
    "#     with torch.no_grad():\n",
    "#         model_output = model(input_ids, labels=target_ids)\n",
    "#         nll = model_output.loss\n",
    "#         negative_log_likelihoods.append(nll)\n",
    "\n",
    "#     previous_end_loc = end_loc\n",
    "#     if end_loc == sequence_length:\n",
    "#         break\n",
    "\n",
    "# # Calculate perplexity\n",
    "# perplexity = torch.exp(torch.stack(negative_log_likelihoods).mean())\n"
   ]
  },
  {
   "cell_type": "code",
   "execution_count": null,
   "id": "8ca47bd1-27dd-4874-a189-f9ca51895a3e",
   "metadata": {},
   "outputs": [],
   "source": []
  },
  {
   "cell_type": "code",
   "execution_count": null,
   "id": "8a545f72-35aa-4131-9642-d0c6e588d36d",
   "metadata": {},
   "outputs": [],
   "source": []
  },
  {
   "cell_type": "code",
   "execution_count": null,
   "id": "48e3e372-56f1-4460-9943-92549b8d736e",
   "metadata": {},
   "outputs": [],
   "source": []
  },
  {
   "cell_type": "code",
   "execution_count": null,
   "id": "29eb5529-bd7e-4812-aa42-3798326ab938",
   "metadata": {},
   "outputs": [],
   "source": []
  },
  {
   "cell_type": "code",
   "execution_count": null,
   "id": "aa80cfd5-ca80-43c6-95f5-4b71d744ad15",
   "metadata": {},
   "outputs": [],
   "source": []
  }
 ],
 "metadata": {
  "kernelspec": {
   "display_name": "Python 3 (ipykernel)",
   "language": "python",
   "name": "python3"
  },
  "language_info": {
   "codemirror_mode": {
    "name": "ipython",
    "version": 3
   },
   "file_extension": ".py",
   "mimetype": "text/x-python",
   "name": "python",
   "nbconvert_exporter": "python",
   "pygments_lexer": "ipython3",
   "version": "3.10.12"
  }
 },
 "nbformat": 4,
 "nbformat_minor": 5
}
