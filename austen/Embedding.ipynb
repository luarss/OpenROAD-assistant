{
 "cells": [
  {
   "cell_type": "markdown",
   "id": "120596f2-8749-40ae-ae47-c8ad09c91893",
   "metadata": {},
   "source": [
    "# Test notebook for generating embeddings\n",
    "- https://huggingface.co/spaces/mteb/leaderboard\n",
    "\n",
    "## Structure\n",
    "- Get text\n",
    "- Chunk text\n",
    "- Embed text\n",
    "- Retrieve text\n",
    "\n",
    "## TODO\n",
    "- Improve embedding model. Current embedding model (all-MiniLM-L6-v2 is ranked 42th on the MTEB)\n",
    "- Improve vector store. QDrant?\n",
    "- To write benchmarking function, see how long each embedding model take. "
   ]
  },
  {
   "cell_type": "markdown",
   "id": "7e041b49-bd7c-49c8-be4a-807d1898becb",
   "metadata": {
    "jp-MarkdownHeadingCollapsed": true
   },
   "source": [
    "## Get text"
   ]
  },
  {
   "cell_type": "code",
   "execution_count": null,
   "id": "78675102-127c-4738-a4ca-92c6cc60b2c5",
   "metadata": {},
   "outputs": [],
   "source": [
    "import os \n",
    "import glob\n",
    "\n",
    "# Load data\n",
    "documents = []\n",
    "for name in glob.glob('./data/*.md'): \n",
    "    print(name) \n",
    "    documents.append(open(name, 'r').read())\n",
    "\n",
    "len(documents)"
   ]
  },
  {
   "cell_type": "markdown",
   "id": "948ada20-278f-4e17-9173-a26ee17f0c70",
   "metadata": {
    "jp-MarkdownHeadingCollapsed": true
   },
   "source": [
    "## Chunk texts"
   ]
  },
  {
   "cell_type": "code",
   "execution_count": null,
   "id": "cdf5722d-0d65-43a8-a4f3-ecbe9c0e476b",
   "metadata": {},
   "outputs": [],
   "source": [
    "import re\n",
    "\n",
    "text = documents[0]\n",
    "\n",
    "# Find and print all matching headers\n",
    "header_pattern = r'^#+ .+'\n",
    "headers = re.findall(header_pattern, text, re.MULTILINE)\n",
    "headers_to_split_on = []\n",
    "for i, header in enumerate(headers):\n",
    "    headers_to_split_on.append((header, f'Header {i}'))\n",
    "\n",
    "headers_to_split_on"
   ]
  },
  {
   "cell_type": "code",
   "execution_count": null,
   "id": "3891e57e-a3fd-46b0-ac17-75b04e2adc6b",
   "metadata": {},
   "outputs": [],
   "source": [
    "from langchain.text_splitter import CharacterTextSplitter, MarkdownHeaderTextSplitter\n",
    "from langchain.text_splitter import RecursiveCharacterTextSplitter\n",
    "\n",
    "# from langchain.vectorstores import Qdrant\n",
    "# from langchain.document_loaders import TextLoader\n",
    "\n",
    "markdown_splitter = MarkdownHeaderTextSplitter(headers_to_split_on=headers_to_split_on)\n",
    "md_header_splits = markdown_splitter.split_text(text)\n",
    "\n",
    "# Optional: We can do recursive splitting within each document\n",
    "# # Char-level splits\n",
    "\n",
    "# chunk_size = 250\n",
    "# chunk_overlap = 30\n",
    "# text_splitter = RecursiveCharacterTextSplitter(\n",
    "#     chunk_size=chunk_size, chunk_overlap=chunk_overlap\n",
    "# )\n",
    "\n",
    "# # Split\n",
    "# splits = text_splitter.split_documents(md_header_splits)\n",
    "# splits"
   ]
  },
  {
   "cell_type": "code",
   "execution_count": 6,
   "id": "46bf873f-0823-4bb1-972d-0fa0942c5a68",
   "metadata": {},
   "outputs": [
    {
     "name": "stdout",
     "output_type": "stream",
     "text": [
      "Lesley Castle: an unfinished novel in letters\n",
      "\n",
      "✍ Jane Austen\n",
      "\n",
      "To Henry Thomas Austen Esqre.\n",
      "\n",
      "Sir\n",
      "\n",
      "I am now availing myself of the Liberty you have frequently honoured me with of dedicating one of my Novels to you. That it is unfinished, I greive; yet fear that from me, it will always remain so; that as far as it is carried, it should be so trifling and so unworthy of you, is another concern to your obliged humble Servant\n",
      "\n",
      "The Author\n",
      "\n",
      "Messrs Demand and Co—please to pay Jane Austen Spinster the sum of one hundred guineas on account of your Humble Servant.\n",
      "\n",
      "H. T. Austen\n",
      "\n",
      "L105. 0. 0.\n",
      "\n",
      "Letter the First: from Miss Margaret Lesley to Miss Charlotte\n",
      "\n",
      "Lutterell. Lesley Castle Janry 3rd—1792.\n",
      "\n",
      "My Brother has just left us. “Matilda (said he at parting) you and Margaret will I am certain take all the care of my dear little one, that she might have received from an indulgent, and affectionate and amiable Mother.” Tears rolled down his cheeks as he spoke these words—the remembrance of her, who had so wantonly disgraced the Maternal character and so openly violated the conjugal Duties, prevented his adding anything farther; he embraced his sweet Child and after saluting Matilda and Me hastily broke from us and seating himself in his Chaise, pursued the road to Aberdeen. Never was there a better young Man! Ah! how little did he deserve the misfortunes he has experienced in the Marriage state. So good a Husband to so bad a Wife! for you know my dear Charlotte that the Worthless Louisa left him, her Child and reputation a few weeks ago in company with Danvers and dishonour. Never was there a sweeter face, a finer form, or a less amiable Heart than Louisa owned! Her child already possesses the personal Charms of her unhappy Mother! May she inherit from her Father all his mental ones! Lesley is at present but five and twenty, and has already given himself up to melancholy and Despair; what a difference between him and his Father! Sir George is 57 and still remains the Beau, the flighty stripling, the gay Lad, and sprightly Youngster, that his Son was really about five years back, and that he has affected to appear ever since my remembrance. While our father is fluttering about the streets of London, gay, dissipated, and Thoughtless at the age of 57, Matilda and I continue secluded from Mankind in our old and Mouldering Castle, which is situated two miles from Perth on a bold projecting Rock, and commands an extensive veiw of the Town and its delightful Environs. But tho’ retired from almost all the World, (for we visit no one but the M’Leods, The M’Kenzies, the M’Phersons, the M’Cartneys, the M’Donalds, The M’kinnons, the M’lellans, the M’kays, the Macbeths and the Macduffs) we are neither dull nor unhappy; on the contrary there never were two more lively, more agreable or more witty girls, than we are; not an hour in the Day hangs heavy on our Hands. We read, we work, we walk, and when fatigued with these Employments releive our spirits, either by a lively song, a graceful Dance, or by some smart bon-mot, and witty repartee. We are handsome my dear Charlotte, very handsome and the greatest of our Perfections is, that we are entirely insensible of them ourselves. But why do I thus dwell on myself! Let me rather repeat the praise of our dear little Neice the innocent Louisa, who is at present sweetly smiling in a gentle Nap, as she reposes on the sofa. The dear Creature is just turned of two years old; as handsome as tho’ 2 and 20, as sensible as tho’ 2 and 30, and as prudent as tho’ 2 and 40. To convince you of this, I must inform you that she has a very fine complexion and very pretty features, that she already knows the two first letters in the Alphabet, and that she never tears her frocks—. If I have not now convinced you of her Beauty, Sense and Prudence, I have nothing more to urge in support of my assertion, and you will therefore have no way of deciding the Affair but by coming to Lesley-Castle, and by a personal acquaintance with Louisa, determine for yourself. Ah! my dear Freind, how happy should I be to see you within these venerable Walls! It is now four years since my removal from School has separated me from you; that two such tender Hearts, so closely linked together by the ties of simpathy and Freindship, should be so widely removed from each other, is vastly moving. I live in Perthshire, You in Sussex. We might meet in London, were my Father disposed to carry me there, and were your Mother to be there at the same time. We might meet at Bath, at Tunbridge, or anywhere else indeed, could we but be at the same place together. We have only to hope that such a period may arrive. My Father does not return to us till Autumn; my Brother will leave Scotland in a few Days; he is impatient to travel. Mistaken Youth! He vainly flatters himself that change of Air will heal the Wounds of a broken Heart! You will join with me I am certain my dear Charlotte, in prayers for the recovery of the unhappy Lesley’s peace of Mind, which must ever be essential to that of your sincere freind M. Lesley.\n",
      "\n",
      "Letter the Second: from Miss C. Lutterell to Miss M. Lesley in answer\n",
      "\n",
      "Glenford Febry 12\n",
      "\n",
      "I have a thousand excuses to beg for having so long delayed thanking you my dear Peggy for your agreable Letter, which beleive me I should not have deferred doing, had not every moment of my time during the last five weeks been so fully employed in the necessary arrangements for my sisters wedding, as to allow me no time to devote either to you or myself. And now what provokes me more than anything else is that the Match is broke off, and all my Labour thrown away. Imagine how great the Dissapointment must be to me, when you consider that after having laboured both by Night and by Day, in order to get the Wedding dinner ready by the time appointed, after having roasted Beef, Broiled Mutton, and Stewed Soup enough to last the new-married Couple through the Honey-moon, I had the mortification of finding that I had been Roasting, Broiling and Stewing both the Meat and Myself to no purpose. Indeed my dear Freind, I never remember suffering any vexation equal to what I experienced on last Monday when my sister came running to me in the store-room with her face as White as a Whipt syllabub, and told me that Hervey had been thrown from his Horse, had fractured his Scull and was pronounced by his surgeon to be in the most emminent Danger. “Good God! (said I) you dont say so? Why what in the name of Heaven will become of all the Victuals! We shall never be able to eat it while it is good. However, we’ll call in the Surgeon to help us. I shall be able to manage the Sir-loin myself, my Mother will eat the soup, and You and the Doctor must finish the rest.” Here I was interrupted, by seeing my poor Sister fall down to appearance Lifeless upon one of the Chests, where we keep our Table linen. I immediately called my Mother and the Maids, and at last we brought her to herself again; as soon as ever she was sensible, she expressed a determination of going instantly to Henry, and was so wildly bent on this Scheme, that we had the greatest Difficulty in the World to prevent her putting it in execution; at last however more by Force than Entreaty we prevailed on her to go into her room; we laid her upon the Bed, and she continued for some Hours in the most dreadful Convulsions. My Mother and I continued in the room with her, and when any intervals of tolerable Composure in Eloisa would allow us, we joined in heartfelt lamentations on the dreadful Waste in our provisions which this Event must occasion, and in concerting some plan for getting rid of them. We agreed that the best thing we could do was to begin eating them immediately, and accordingly we ordered up the cold Ham and Fowls, and instantly began our Devouring Plan on them with great Alacrity. We would have persuaded Eloisa to have taken a Wing of a Chicken, but she would not be persuaded. She was however much quieter than she had been; the convulsions she had before suffered having given way to an almost perfect Insensibility. We endeavoured to rouse her by every means in our power, but to no purpose. I talked to her of Henry. “Dear Eloisa (said I) there’s no occasion for your crying so much about such a trifle. (for I was willing to make light of it in order to comfort her) I beg you would not mind it—You see it does not vex me in the least; though perhaps I may suffer most from it after all; for I shall not only be obliged to eat up all the Victuals I have dressed already, but must if Henry should recover (which however is not very likely) dress as much for you again; or should he die (as I suppose he will) I shall still have to prepare a Dinner for you whenever you marry any one else. So you see that tho’ perhaps for the present it may afflict you to think of Henry’s sufferings, Yet I dare say he’ll die soon, and then his pain will be over and you will be easy, whereas my Trouble will last much longer for work as hard as I may, I am certain that the pantry cannot be cleared in less than a fortnight.” Thus I did all in my power to console her, but without any effect, and at last as I saw that she did not seem to listen to me, I said no more, but leaving her with my Mother I took down the remains of The Ham and Chicken, and sent William to ask how Henry did. He was not expected to live many Hours; he died the same day. We took all possible care to break the melancholy Event to Eloisa in the tenderest manner; yet in spite of every precaution, her sufferings on hearing it were too violent for her reason, and she continued for many hours in a high Delirium. She is still extremely ill, and her Physicians are greatly afraid of her going into a Decline. We are therefore preparing for Bristol, where we mean to be in the course of the next week. And now my dear Margaret let me talk a little of your affairs; and in the first place I must inform you that it is confidently reported, your Father is going to be married; I am very unwilling to beleive so unpleasing a report, and at the same time cannot wholly discredit it. I have written to my freind Susan Fitzgerald, for information concerning it, which as she is at present in Town, she will be very able to give me. I know not who is the Lady. I think your Brother is extremely right in the resolution he has taken of travelling, as it will perhaps contribute to obliterate from his remembrance, those disagreable Events, which have lately so much afflicted him—I am happy to find that tho’ secluded from all the World, neither you nor Matilda are dull or unhappy—that you may never know what it is to, be either is the wish of your sincerely affectionate C.L.\n",
      "\n",
      "P. S. I have this instant received an answer from my freind Susan, which I enclose to you, and on which you will make your own reflections.\n",
      "\n",
      "The enclosed letter\n",
      "\n",
      "My dear Charlotte You could not have applied for information concerning the report of Sir George Lesleys Marriage, to any one better able to give it you than I am. Sir George is certainly married; I was myself present at the Ceremony, which you will not be surprised at when I subscribe myself your Affectionate Susan Lesley\n",
      "\n",
      "Letter the Third: from Miss Margaret Lesley to Miss C. Lutterell Lesley\n",
      "\n",
      "Castle February the 16th\n",
      "\n",
      "I have made my own reflections on the letter you enclosed to me, my Dear Charlotte and I will now tell you what those reflections were. I reflected that if by this second Marriage Sir George should have a second family, our fortunes must be considerably diminushed—that if his Wife should be of an extravagant turn, she would encourage him to persevere in that gay and Dissipated way of Life to which little encouragement would be necessary, and which has I fear already proved but too detrimental to his health and fortune—that she would now become Mistress of those Jewels which once adorned our Mother, and which Sir George had always promised us—that if they did not come into Perthshire I should not be able to gratify my curiosity of beholding my Mother-in-law and that if they did, Matilda would no longer sit at the head of her Father’s table—. These my dear Charlotte were the melancholy reflections which crowded into my imagination after perusing Susan’s letter to you, and which instantly occurred to Matilda when she had perused it likewise. The same ideas, the same fears, immediately occupied her Mind, and I know not which reflection distressed her most, whether the probable Diminution of our Fortunes, or her own Consequence. We both wish very much to know whether Lady Lesley is handsome and what is your opinion of her; as you honour her with the appellation of your freind, we flatter ourselves that she must be amiable. My Brother is already in Paris. He intends to quit it in a few Days, and to begin his route to Italy. He writes in a most chearfull manner, says that the air of France has greatly recovered both his Health and Spirits; that he has now entirely ceased to think of Louisa with any degree either of Pity or Affection, that he even feels himself obliged to her for her Elopement, as he thinks it very good fun to be single again. By this, you may perceive that he has entirely regained that chearful Gaiety, and sprightly Wit, for which he was once so remarkable. When he first became acquainted with Louisa which was little more than three years ago, he was one of the most lively, the most agreable young Men of the age—. I beleive you never yet heard the particulars of his first acquaintance with her. It commenced at our cousin Colonel Drummond’s; at whose house in Cumberland he spent the Christmas, in which he attained the age of two and twenty. Louisa Burton was the Daughter of a distant Relation of Mrs. Drummond, who dieing a few Months before in extreme poverty, left his only Child then about eighteen to the protection of any of his Relations who would protect her. Mrs. Drummond was the only one who found herself so disposed—Louisa was therefore removed from a miserable Cottage in Yorkshire to an elegant Mansion in Cumberland, and from every pecuniary Distress that Poverty could inflict, to every elegant Enjoyment that Money could purchase—. Louisa was naturally ill-tempered and Cunning; but she had been taught to disguise her real Disposition, under the appearance of insinuating Sweetness, by a father who but too well knew, that to be married, would be the only chance she would have of not being starved, and who flattered himself that with such an extroidinary share of personal beauty, joined to a gentleness of Manners, and an engaging address, she might stand a good chance of pleasing some young Man who might afford to marry a girl without a Shilling. Louisa perfectly entered into her father’s schemes and was determined to forward them with all her care and attention. By dint of Perseverance and Application, she had at length so thoroughly disguised her natural disposition under the mask of Innocence, and Softness, as to impose upon every one who had not by a long and constant intimacy with her discovered her real Character. Such was Louisa when the hapless Lesley first beheld her at Drummond-house. His heart which (to use your favourite comparison) was as delicate as sweet and as tender as a Whipt-syllabub, could not resist her attractions. In a very few Days, he was falling in love, shortly after actually fell, and before he had known her a Month, he had married her. My Father was at first highly displeased at so hasty and imprudent a connection; but when he found that they did not mind it, he soon became perfectly reconciled to the match. The Estate near Aberdeen which my brother possesses by the bounty of his great Uncle independant of Sir George, was entirely sufficient to support him and my Sister in Elegance and Ease. For the first twelvemonth, no one could be happier than Lesley, and no one more amiable to appearance than Louisa, and so plausibly did she act and so cautiously behave that tho’ Matilda and I often spent several weeks together with them, yet we neither of us had any suspicion of her real Disposition. After the birth of Louisa however, which one would have thought would have strengthened her regard for Lesley, the mask she had so long supported was by degrees thrown aside, and as probably she then thought herself secure in the affection of her Husband (which did indeed appear if possible augmented by the birth of his Child) she seemed to take no pains to prevent that affection from ever diminushing. Our visits therefore to Dunbeath, were now less frequent and by far less agreable than they used to be. Our absence was however never either mentioned or lamented by Louisa who in the society of young Danvers with whom she became acquainted at Aberdeen (he was at one of the Universities there,) felt infinitely happier than in that of Matilda and your freind, tho’ there certainly never were pleasanter girls than we are. You know the sad end of all Lesleys connubial happiness; I will not repeat it—. Adeiu my dear Charlotte; although I have not yet mentioned anything of the matter, I hope you will do me the justice to beleive that I think and feel, a great deal for your Sisters affliction. I do not doubt but that the healthy air of the Bristol downs will intirely remove it, by erasing from her Mind the remembrance of Henry. I am my dear Charlotte yrs ever M. L.\n",
      "\n",
      "Letter the Fourth: from Miss C. Lutterell to Miss M. Lesley Bristol\n",
      "\n",
      "February 27th\n",
      "\n",
      "My Dear Peggy I have but just received your letter, which being directed to Sussex while I was at Bristol was obliged to be forwarded to me here, and from some unaccountable Delay, has but this instant reached me—. I return you many thanks for the account it contains of Lesley’s acquaintance, Love and Marriage with Louisa, which has not the less entertained me for having often been repeated to me before.\n",
      "\n",
      "I have the satisfaction of informing you that we have every reason to imagine our pantry is by this time nearly cleared, as we left Particular orders with the servants to eat as hard as they possibly could, and to call in a couple of Chairwomen to assist them. We brought a cold Pigeon pye, a cold turkey, a cold tongue, and half a dozen Jellies with us, which we were lucky enough with the help of our Landlady, her husband, and their three children, to get rid of, in less than two days after our arrival. Poor Eloisa is still so very indifferent both in Health and Spirits, that I very much fear, the air of the Bristol downs, healthy as it is, has not been able to drive poor Henry from her remembrance.\n",
      "\n",
      "You ask me whether your new Mother in law is handsome and amiable—I will now give you an exact description of her bodily and mental charms. She is short, and extremely well made; is naturally pale, but rouges a good deal; has fine eyes, and fine teeth, as she will take care to let you know as soon as she sees you, and is altogether very pretty. She is remarkably good-tempered when she has her own way, and very lively when she is not out of humour. She is naturally extravagant and not very affected; she never reads anything but the letters she receives from me, and never writes anything but her answers to them. She plays, sings and Dances, but has no taste for either, and excells in none, tho’ she says she is passionately fond of all. Perhaps you may flatter me so far as to be surprised that one of whom I speak with so little affection should be my particular freind; but to tell you the truth, our freindship arose rather from Caprice on her side than Esteem on mine. We spent two or three days together with a Lady in Berkshire with whom we both happened to be connected—. During our visit, the Weather being remarkably bad, and our party particularly stupid, she was so good as to conceive a violent partiality for me, which very soon settled in a downright Freindship and ended in an established correspondence. She is probably by this time as tired of me, as I am of her; but as she is too Polite and I am too civil to say so, our letters are still as frequent and affectionate as ever, and our Attachment as firm and sincere as when it first commenced. As she had a great taste for the pleasures of London, and of Brighthelmstone, she will I dare say find some difficulty in prevailing on herself even to satisfy the curiosity I dare say she feels of beholding you, at the expence of quitting those favourite haunts of Dissipation, for the melancholy tho’ venerable gloom of the castle you inhabit. Perhaps however if she finds her health impaired by too much amusement, she may acquire fortitude sufficient to undertake a Journey to Scotland in the hope of its Proving at least beneficial to her health, if not conducive to her happiness. Your fears I am sorry to say, concerning your father’s extravagance, your own fortunes, your Mothers Jewels and your Sister’s consequence, I should suppose are but too well founded. My freind herself has four thousand pounds, and will probably spend nearly as much every year in Dress and Public places, if she can get it—she will certainly not endeavour to reclaim Sir George from the manner of living to which he has been so long accustomed, and there is therefore some reason to fear that you will be very well off, if you get any fortune at all. The Jewels I should imagine too will undoubtedly be hers, and there is too much reason to think that she will preside at her Husbands table in preference to his Daughter. But as so melancholy a subject must necessarily extremely distress you, I will no longer dwell on it—.\n",
      "\n",
      "Eloisa’s indisposition has brought us to Bristol at so unfashionable a season of the year, that we have actually seen but one genteel family since we came. Mr and Mrs Marlowe are very agreable people; the ill health of their little boy occasioned their arrival here; you may imagine that being the only family with whom we can converse, we are of course on a footing of intimacy with them; we see them indeed almost every day, and dined with them yesterday. We spent a very pleasant Day, and had a very good Dinner, tho’ to be sure the Veal was terribly underdone, and the Curry had no seasoning. I could not help wishing all dinner-time that I had been at the dressing it—. A brother of Mrs Marlowe, Mr Cleveland is with them at present; he is a good-looking young Man, and seems to have a good deal to say for himself. I tell Eloisa that she should set her cap at him, but she does not at all seem to relish the proposal. I should like to see the girl married and Cleveland has a very good estate. Perhaps you may wonder that I do not consider myself as well as my Sister in my matrimonial Projects; but to tell you the truth I never wish to act a more principal part at a Wedding than the superintending and directing the Dinner, and therefore while I can get any of my acquaintance to marry for me, I shall never think of doing it myself, as I very much suspect that I should not have so much time for dressing my own Wedding-dinner, as for dressing that of my freinds. Yours sincerely C. L.\n",
      "\n",
      "Letter the Fifth: Miss Margaret Lesley to Miss Charlotte Lutterell\n",
      "\n",
      "Lesley-Castle March 18th\n",
      "\n",
      "On the same day that I received your last kind letter, Matilda received one from Sir George which was dated from Edinburgh, and informed us that he should do himself the pleasure of introducing Lady Lesley to us on the following evening. This as you may suppose considerably surprised us, particularly as your account of her Ladyship had given us reason to imagine there was little chance of her visiting Scotland at a time that London must be so gay. As it was our business however to be delighted at such a mark of condescension as a visit from Sir George and Lady Lesley, we prepared to return them an answer expressive of the happiness we enjoyed in expectation of such a Blessing, when luckily recollecting that as they were to reach the Castle the next Evening, it would be impossible for my father to receive it before he left Edinburgh, we contented ourselves with leaving them to suppose that we were as happy as we ought to be. At nine in the Evening on the following day, they came, accompanied by one of Lady Lesleys brothers. Her Ladyship perfectly answers the description you sent me of her, except that I do not think her so pretty as you seem to consider her. She has not a bad face, but there is something so extremely unmajestic in her little diminutive figure, as to render her in comparison with the elegant height of Matilda and Myself, an insignificant Dwarf. Her curiosity to see us (which must have been great to bring her more than four hundred miles) being now perfectly gratified, she already begins to mention their return to town, and has desired us to accompany her. We cannot refuse her request since it is seconded by the commands of our Father, and thirded by the entreaties of Mr. Fitzgerald who is certainly one of the most pleasing young Men, I ever beheld. It is not yet determined when we are to go, but when ever we do we shall certainly take our little Louisa with us. Adeiu my dear Charlotte; Matilda unites in best wishes to you, and Eloisa, with yours ever M. L.\n",
      "\n",
      "Letter the Sixth: Lady Lesley to Miss Charlotte Lutterell Lesley-Castle\n",
      "\n",
      "March 20th\n",
      "\n",
      "We arrived here my sweet Freind about a fortnight ago, and I already heartily repent that I ever left our charming House in Portman-square for such a dismal old weather-beaten Castle as this. You can form no idea sufficiently hideous, of its dungeon-like form. It is actually perched upon a Rock to appearance so totally inaccessible, that I expected to have been pulled up by a rope; and sincerely repented having gratified my curiosity to behold my Daughters at the expence of being obliged to enter their prison in so dangerous and ridiculous a manner. But as soon as I once found myself safely arrived in the inside of this tremendous building, I comforted myself with the hope of having my spirits revived, by the sight of two beautifull girls, such as the Miss Lesleys had been represented to me, at Edinburgh. But here again, I met with nothing but Disappointment and Surprise. Matilda and Margaret Lesley are two great, tall, out of the way, over-grown, girls, just of a proper size to inhabit a Castle almost as large in comparison as themselves. I wish my dear Charlotte that you could but behold these Scotch giants; I am sure they would frighten you out of your wits. They will do very well as foils to myself, so I have invited them to accompany me to London where I hope to be in the course of a fortnight. Besides these two fair Damsels, I found a little humoured Brat here who I beleive is some relation to them, they told me who she was, and gave me a long rigmerole story of her father and a Miss Somebody which I have entirely forgot. I hate scandal and detest Children. I have been plagued ever since I came here with tiresome visits from a parcel of Scotch wretches, with terrible hard-names; they were so civil, gave me so many invitations, and talked of coming again so soon, that I could not help affronting them. I suppose I shall not see them any more, and yet as a family party we are so stupid, that I do not know what to do with myself. These girls have no Music, but Scotch airs, no Drawings but Scotch Mountains, and no Books but Scotch Poems—and I hate everything Scotch. In general I can spend half the Day at my toilett with a great deal of pleasure, but why should I dress here, since there is not a creature in the House whom I have any wish to please. I have just had a conversation with my Brother in which he has greatly offended me, and which as I have nothing more entertaining to send you I will gave you the particulars of. You must know that I have for these 4 or 5 Days past strongly suspected William of entertaining a partiality to my eldest Daughter. I own indeed that had I been inclined to fall in love with any woman, I should not have made choice of Matilda Lesley for the object of my passion; for there is nothing I hate so much as a tall Woman: but however there is no accounting for some men’s taste and as William is himself nearly six feet high, it is not wonderful that he should be partial to that height. Now as I have a very great affection for my Brother and should be extremely sorry to see him unhappy, which I suppose he means to be if he cannot marry Matilda, as moreover I know that his circumstances will not allow him to marry any one without a fortune, and that Matilda’s is entirely dependant on her Father, who will neither have his own inclination nor my permission to give her anything at present, I thought it would be doing a good-natured action by my Brother to let him know as much, in order that he might choose for himself, whether to conquer his passion, or Love and Despair. Accordingly finding myself this Morning alone with him in one of the horrid old rooms of this Castle, I opened the cause to him in the following Manner.\n",
      "\n",
      "“Well my dear William what do you think of these girls? for my part, I do not find them so plain as I expected: but perhaps you may think me partial to the Daughters of my Husband and perhaps you are right—They are indeed so very like Sir George that it is natural to think”—\n",
      "\n",
      "“My Dear Susan (cried he in a tone of the greatest amazement) You do not really think they bear the least resemblance to their Father! He is so very plain!—but I beg your pardon—I had entirely forgotten to whom I was speaking—”\n",
      "\n",
      "“Oh! pray dont mind me; (replied I) every one knows Sir George is horribly ugly, and I assure you I always thought him a fright.”\n",
      "\n",
      "“You surprise me extremely (answered William) by what you say both with respect to Sir George and his Daughters. You cannot think your Husband so deficient in personal Charms as you speak of, nor can you surely see any resemblance between him and the Miss Lesleys who are in my opinion perfectly unlike him and perfectly Handsome.”\n",
      "\n",
      "“If that is your opinion with regard to the girls it certainly is no proof of their Fathers beauty, for if they are perfectly unlike him and very handsome at the same time, it is natural to suppose that he is very plain.”\n",
      "\n",
      "“By no means, (said he) for what may be pretty in a Woman, may be very unpleasing in a Man.”\n",
      "\n",
      "“But you yourself (replied I) but a few minutes ago allowed him to be very plain.”\n",
      "\n",
      "“Men are no Judges of Beauty in their own Sex.” (said he).\n",
      "\n",
      "“Neither Men nor Women can think Sir George tolerable.”\n",
      "\n",
      "“Well, well, (said he) we will not dispute about his Beauty, but your opinion of his daughters is surely very singular, for if I understood you right, you said you did not find them so plain as you expected to do!”\n",
      "\n",
      "“Why, do you find them plainer then?” (said I).\n",
      "\n",
      "“I can scarcely beleive you to be serious (returned he) when you speak of their persons in so extroidinary a Manner. Do not you think the Miss Lesleys are two very handsome young Women?”\n",
      "\n",
      "“Lord! No! (cried I) I think them terribly plain!”\n",
      "\n",
      "“Plain! (replied He) My dear Susan, you cannot really think so! Why what single Feature in the face of either of them, can you possibly find fault with?”\n",
      "\n",
      "“Oh! trust me for that; (replied I). Come I will begin with the eldest—with Matilda. Shall I, William?” (I looked as cunning as I could when I said it, in order to shame him).\n",
      "\n",
      "“They are so much alike (said he) that I should suppose the faults of one, would be the faults of both.”\n",
      "\n",
      "“Well, then, in the first place; they are both so horribly tall!”\n",
      "\n",
      "“They are taller than you are indeed.” (said he with a saucy smile.)\n",
      "\n",
      "“Nay, (said I), I know nothing of that.”\n",
      "\n",
      "“Well, but (he continued) tho’ they may be above the common size, their figures are perfectly elegant; and as to their faces, their Eyes are beautifull.”\n",
      "\n",
      "“I never can think such tremendous, knock-me-down figures in the least degree elegant, and as for their eyes, they are so tall that I never could strain my neck enough to look at them.”\n",
      "\n",
      "“Nay, (replied he) I know not whether you may not be in the right in not attempting it, for perhaps they might dazzle you with their Lustre.”\n",
      "\n",
      "“Oh! Certainly. (said I, with the greatest complacency, for I assure you my dearest Charlotte I was not in the least offended tho’ by what followed, one would suppose that William was conscious of having given me just cause to be so, for coming up to me and taking my hand, he said) “You must not look so grave Susan; you will make me fear I have offended you!”\n",
      "\n",
      "“Offended me! Dear Brother, how came such a thought in your head! (returned I) No really! I assure you that I am not in the least surprised at your being so warm an advocate for the Beauty of these girls.”—\n",
      "\n",
      "“Well, but (interrupted William) remember that we have not yet concluded our dispute concerning them. What fault do you find with their complexion?”\n",
      "\n",
      "“They are so horridly pale.”\n",
      "\n",
      "“They have always a little colour, and after any exercise it is considerably heightened.”\n",
      "\n",
      "“Yes, but if there should ever happen to be any rain in this part of the world, they will never be able raise more than their common stock—except indeed they amuse themselves with running up and Down these horrid old galleries and Antichambers.”\n",
      "\n",
      "“Well, (replied my Brother in a tone of vexation, and glancing an impertinent look at me) if they have but little colour, at least, it is all their own.”\n",
      "\n",
      "This was too much my dear Charlotte, for I am certain that he had the impudence by that look, of pretending to suspect the reality of mine. But you I am sure will vindicate my character whenever you may hear it so cruelly aspersed, for you can witness how often I have protested against wearing Rouge, and how much I always told you I disliked it. And I assure you that my opinions are still the same.—. Well, not bearing to be so suspected by my Brother, I left the room immediately, and have been ever since in my own Dressing-room writing to you. What a long letter have I made of it! But you must not expect to receive such from me when I get to Town; for it is only at Lesley castle, that one has time to write even to a Charlotte Lutterell.—. I was so much vexed by William’s glance, that I could not summon Patience enough, to stay and give him that advice respecting his attachment to Matilda which had first induced me from pure Love to him to begin the conversation; and I am now so thoroughly convinced by it, of his violent passion for her, that I am certain he would never hear reason on the subject, and I shall there fore give myself no more trouble either about him or his favourite. Adeiu my dear girl—Yrs affectionately Susan L.\n",
      "\n",
      "Letter the Seventh: from Miss C. Lutterell to Miss M. Lesley\n",
      "\n",
      "Bristol the 27th of March\n",
      "\n",
      "I executed my Plan with great Punctuality. I can not say success, for alas! my silence while she played seemed not in the least to displease her; on the contrary she actually said to me one day “Well Charlotte, I am very glad to find that you have at last left off that ridiculous custom of applauding my Execution on the Harpsichord till you made my head ake, and yourself hoarse. I feel very much obliged to you for keeping your admiration to yourself.” I never shall forget the very witty answer I made to this speech. “Eloisa (said I) I beg you would be quite at your Ease with respect to all such fears in future, for be assured that I shall always keep my admiration to myself and my own pursuits and never extend it to yours.” This was the only very severe thing I ever said in my Life; not but that I have often felt myself extremely satirical but it was the only time I ever made my feelings public.\n",
      "\n",
      "I suppose there never were two Young people who had a greater affection for each other than Henry and Eloisa; no, the Love of your Brother for Miss Burton could not be so strong tho’ it might be more violent. You may imagine therefore how provoked my Sister must have been to have him play her such a trick. Poor girl! she still laments his Death with undiminished constancy, notwithstanding he has been dead more than six weeks; but some People mind such things more than others. The ill state of Health into which his loss has thrown her makes her so weak, and so unable to support the least exertion, that she has been in tears all this Morning merely from having taken leave of Mrs. Marlowe who with her Husband, Brother and Child are to leave Bristol this morning. I am sorry to have them go because they are the only family with whom we have here any acquaintance, but I never thought of crying; to be sure Eloisa and Mrs Marlowe have always been more together than with me, and have therefore contracted a kind of affection for each other, which does not make Tears so inexcusable in them as they would be in me. The Marlowes are going to Town; Cliveland accompanies them; as neither Eloisa nor I could catch him I hope you or Matilda may have better Luck. I know not when we shall leave Bristol, Eloisa’s spirits are so low that she is very averse to moving, and yet is certainly by no means mended by her residence here. A week or two will I hope determine our Measures—in the mean time believe me and etc—and etc—Charlotte Lutterell.\n",
      "\n",
      "Letter the Eighth: Miss Lutterell to Mrs Marlowe\n",
      "\n",
      "Bristol April 4th\n",
      "\n",
      "I feel myself greatly obliged to you my dear Emma for such a mark of your affection as I flatter myself was conveyed in the proposal you made me of our Corresponding; I assure you that it will be a great releif to me to write to you and as long as my Health and Spirits will allow me, you will find me a very constant correspondent; I will not say an entertaining one, for you know my situation suffciently not to be ignorant that in me Mirth would be improper and I know my own Heart too well not to be sensible that it would be unnatural. You must not expect news for we see no one with whom we are in the least acquainted, or in whose proceedings we have any Interest. You must not expect scandal for by the same rule we are equally debarred either from hearing or inventing it.—You must expect from me nothing but the melancholy effusions of a broken Heart which is ever reverting to the Happiness it once enjoyed and which ill supports its present wretchedness. The Possibility of being able to write, to speak, to you of my lost Henry will be a luxury to me, and your goodness will not I know refuse to read what it will so much releive my Heart to write. I once thought that to have what is in general called a Freind (I mean one of my own sex to whom I might speak with less reserve than to any other person) independant of my sister would never be an object of my wishes, but how much was I mistaken! Charlotte is too much engrossed by two confidential correspondents of that sort, to supply the place of one to me, and I hope you will not think me girlishly romantic, when I say that to have some kind and compassionate Freind who might listen to my sorrows without endeavouring to console me was what I had for some time wished for, when our acquaintance with you, the intimacy which followed it and the particular affectionate attention you paid me almost from the first, caused me to entertain the flattering Idea of those attentions being improved on a closer acquaintance into a Freindship which, if you were what my wishes formed you would be the greatest Happiness I could be capable of enjoying. To find that such Hopes are realised is a satisfaction indeed, a satisfaction which is now almost the only one I can ever experience.—I feel myself so languid that I am sure were you with me you would oblige me to leave off writing, and I cannot give you a greater proof of my affection for you than by acting, as I know you would wish me to do, whether Absent or Present. I am my dear Emmas sincere freind E. L.\n",
      "\n",
      "Letter the Ninth: Mrs Marlowe to Miss Lutterell\n",
      "\n",
      "Grosvenor Street, April 10th\n",
      "\n",
      "Need I say my dear Eloisa how wellcome your letter was to me I cannot give a greater proof of the pleasure I received from it, or of the Desire I feel that our Correspondence may be regular and frequent than by setting you so good an example as I now do in answering it before the end of the week—. But do not imagine that I claim any merit in being so punctual; on the contrary I assure you, that it is a far greater Gratification to me to write to you, than to spend the Evening either at a Concert or a Ball. Mr Marlowe is so desirous of my appearing at some of the Public places every evening that I do not like to refuse him, but at the same time so much wish to remain at Home, that independant of the Pleasure I experience in devoting any portion of my Time to my Dear Eloisa, yet the Liberty I claim from having a letter to write of spending an Evening at home with my little Boy, you know me well enough to be sensible, will of itself be a sufficient Inducement (if one is necessary) to my maintaining with Pleasure a Correspondence with you. As to the subject of your letters to me, whether grave or merry, if they concern you they must be equally interesting to me; not but that I think the melancholy Indulgence of your own sorrows by repeating them and dwelling on them to me, will only encourage and increase them, and that it will be more prudent in you to avoid so sad a subject; but yet knowing as I do what a soothing and melancholy Pleasure it must afford you, I cannot prevail on myself to deny you so great an Indulgence, and will only insist on your not expecting me to encourage you in it, by my own letters; on the contrary I intend to fill them with such lively Wit and enlivening Humour as shall even provoke a smile in the sweet but sorrowfull countenance of my Eloisa.\n",
      "\n",
      "In the first place you are to learn that I have met your sisters three freinds Lady Lesley and her Daughters, twice in Public since I have been here. I know you will be impatient to hear my opinion of the Beauty of three Ladies of whom you have heard so much. Now, as you are too ill and too unhappy to be vain, I think I may venture to inform you that I like none of their faces so well as I do your own. Yet they are all handsome—Lady Lesley indeed I have seen before; her Daughters I beleive would in general be said to have a finer face than her Ladyship, and yet what with the charms of a Blooming complexion, a little Affectation and a great deal of small-talk, (in each of which she is superior to the young Ladies) she will I dare say gain herself as many admirers as the more regular features of Matilda, and Margaret. I am sure you will agree with me in saying that they can none of them be of a proper size for real Beauty, when you know that two of them are taller and the other shorter than ourselves. In spite of this Defect (or rather by reason of it) there is something very noble and majestic in the figures of the Miss Lesleys, and something agreably lively in the appearance of their pretty little Mother-in-law. But tho’ one may be majestic and the other lively, yet the faces of neither possess that Bewitching sweetness of my Eloisas, which her present languor is so far from diminushing. What would my Husband and Brother say of us, if they knew all the fine things I have been saying to you in this letter. It is very hard that a pretty woman is never to be told she is so by any one of her own sex without that person’s being suspected to be either her determined Enemy, or her professed Toad-eater. How much more amiable are women in that particular! One man may say forty civil things to another without our supposing that he is ever paid for it, and provided he does his Duty by our sex, we care not how Polite he is to his own.\n",
      "\n",
      "Mrs Lutterell will be so good as to accept my compliments, Charlotte, my Love, and Eloisa the best wishes for the recovery of her Health and Spirits that can be offered by her affectionate Freind E. Marlowe.\n",
      "\n",
      "I am afraid this letter will be but a poor specimen of my Powers in the witty way; and your opinion of them will not be greatly increased when I assure you that I have been as entertaining as I possibly could.\n",
      "\n",
      "Letter the Tenth: from Miss Margaret Lesley to Miss Charlotte Lutterell\n",
      "\n",
      "Portman Square April 13th\n",
      "\n",
      "My dear Charlotte We left Lesley-Castle on the 28th of last Month, and arrived safely in London after a Journey of seven Days; I had the pleasure of finding your Letter here waiting my Arrival, for which you have my grateful Thanks. Ah! my dear Freind I every day more regret the serene and tranquil Pleasures of the Castle we have left, in exchange for the uncertain and unequal Amusements of this vaunted City. Not that I will pretend to assert that these uncertain and unequal Amusements are in the least Degree unpleasing to me; on the contrary I enjoy them extremely and should enjoy them even more, were I not certain that every appearance I make in Public but rivetts the Chains of those unhappy Beings whose Passion it is impossible not to pity, tho’ it is out of my power to return. In short my Dear Charlotte it is my sensibility for the sufferings of so many amiable young Men, my Dislike of the extreme admiration I meet with, and my aversion to being so celebrated both in Public, in Private, in Papers, and in Printshops, that are the reasons why I cannot more fully enjoy, the Amusements so various and pleasing of London. How often have I wished that I possessed as little Personal Beauty as you do; that my figure were as inelegant; my face as unlovely; and my appearance as unpleasing as yours! But ah! what little chance is there of so desirable an Event; I have had the small-pox, and must therefore submit to my unhappy fate.\n",
      "\n",
      "I am now going to intrust you my dear Charlotte with a secret which has long disturbed the tranquility of my days, and which is of a kind to require the most inviolable Secrecy from you. Last Monday se’night Matilda and I accompanied Lady Lesley to a Rout at the Honourable Mrs Kickabout’s; we were escorted by Mr Fitzgerald who is a very amiable young Man in the main, tho’ perhaps a little singular in his Taste—He is in love with Matilda—. We had scarcely paid our Compliments to the Lady of the House and curtseyed to half a score different people when my Attention was attracted by the appearance of a Young Man the most lovely of his Sex, who at that moment entered the Room with another Gentleman and Lady. From the first moment I beheld him, I was certain that on him depended the future Happiness of my Life. Imagine my surprise when he was introduced to me by the name of Cleveland—I instantly recognised him as the Brother of Mrs Marlowe, and the acquaintance of my Charlotte at Bristol. Mr and Mrs M. were the gentleman and Lady who accompanied him. (You do not think Mrs Marlowe handsome?) The elegant address of Mr Cleveland, his polished Manners and Delightful Bow, at once confirmed my attachment. He did not speak; but I can imagine everything he would have said, had he opened his Mouth. I can picture to myself the cultivated Understanding, the Noble sentiments, and elegant Language which would have shone so conspicuous in the conversation of Mr Cleveland. The approach of Sir James Gower (one of my too numerous admirers) prevented the Discovery of any such Powers, by putting an end to a Conversation we had never commenced, and by attracting my attention to himself. But oh! how inferior are the accomplishments of Sir James to those of his so greatly envied Rival! Sir James is one of the most frequent of our Visitors, and is almost always of our Parties. We have since often met Mr and Mrs Marlowe but no Cleveland—he is always engaged some where else. Mrs Marlowe fatigues me to Death every time I see her by her tiresome Conversations about you and Eloisa. She is so stupid! I live in the hope of seeing her irrisistable Brother to night, as we are going to Lady Flambeaus, who is I know intimate with the Marlowes. Our party will be Lady Lesley, Matilda, Fitzgerald, Sir James Gower, and myself. We see little of Sir George, who is almost always at the gaming-table. Ah! my poor Fortune where art thou by this time? We see more of Lady L. who always makes her appearance (highly rouged) at Dinner-time. Alas! what Delightful Jewels will she be decked in this evening at Lady Flambeau’s! Yet I wonder how she can herself delight in wearing them; surely she must be sensible of the ridiculous impropriety of loading her little diminutive figure with such superfluous ornaments; is it possible that she can not know how greatly superior an elegant simplicity is to the most studied apparel? Would she but Present them to Matilda and me, how greatly should we be obliged to her, How becoming would Diamonds be on our fine majestic figures! And how surprising it is that such an Idea should never have occurred to her. I am sure if I have reflected in this manner once, I have fifty times. Whenever I see Lady Lesley dressed in them such reflections immediately come across me. My own Mother’s Jewels too! But I will say no more on so melancholy a subject—let me entertain you with something more pleasing—Matilda had a letter this morning from Lesley, by which we have the pleasure of finding that he is at Naples has turned Roman-Catholic, obtained one of the Pope’s Bulls for annulling his 1st Marriage and has since actually married a Neapolitan Lady of great Rank and Fortune. He tells us moreover that much the same sort of affair has befallen his first wife the worthless Louisa who is likewise at Naples had turned Roman-catholic, and is soon to be married to a Neapolitan Nobleman of great and Distinguished merit. He says, that they are at present very good Freinds, have quite forgiven all past errors and intend in future to be very good Neighbours. He invites Matilda and me to pay him a visit to Italy and to bring him his little Louisa whom both her Mother, Step-mother, and himself are equally desirous of beholding. As to our accepting his invitation, it is at Present very uncertain; Lady Lesley advises us to go without loss of time; Fitzgerald offers to escort us there, but Matilda has some doubts of the Propriety of such a scheme—she owns it would be very agreable. I am certain she likes the Fellow. My Father desires us not to be in a hurry, as perhaps if we wait a few months both he and Lady Lesley will do themselves the pleasure of attending us. Lady Lesley says no, that nothing will ever tempt her to forego the Amusements of Brighthelmstone for a Journey to Italy merely to see our Brother. “No (says the disagreable Woman) I have once in my life been fool enough to travel I dont know how many hundred Miles to see two of the Family, and I found it did not answer, so Deuce take me, if ever I am so foolish again.” So says her Ladyship, but Sir George still Perseveres in saying that perhaps in a month or two, they may accompany us. Adeiu my Dear Charlotte Yrs faithful Margaret Lesley.\n"
     ]
    },
    {
     "data": {
      "text/plain": [
       "[]"
      ]
     },
     "execution_count": 6,
     "metadata": {},
     "output_type": "execute_result"
    }
   ],
   "source": [
    "# Putting it together as a function\n",
    "# TODO: Document loading seems to remove the markdown headers by default. Is there any way to keep the headers?\n",
    "from langchain.text_splitter import CharacterTextSplitter, MarkdownHeaderTextSplitter\n",
    "from langchain.text_splitter import RecursiveCharacterTextSplitter\n",
    "import re\n",
    "\n",
    "def chunk(doc):\n",
    "    \"\"\"\n",
    "    Args:\n",
    "    doc - in Document format\n",
    "    \n",
    "    Output:\n",
    "    md_header_splits - markdown split format. Gives a more principled level of splitting \n",
    "    \"\"\"\n",
    "    text = doc.page_content\n",
    "    header_pattern = r'^#+ .+'\n",
    "    headers = re.findall(header_pattern, text, re.MULTILINE)\n",
    "    headers_to_split_on = []\n",
    "    for i, header in enumerate(headers):\n",
    "        headers_to_split_on.append((header, f'Header {i}'))\n",
    "    return headers_to_split_on\n",
    "    # markdown_splitter = MarkdownHeaderTextSplitter(headers_to_split_on=headers_to_split_on)\n",
    "    # md_header_splits = markdown_splitter.split_text(text)\n",
    "\n",
    "    # # Optional char-level splits within each document \n",
    "    # chunk_size = 250\n",
    "    # chunk_overlap = 30\n",
    "    # text_splitter = RecursiveCharacterTextSplitter(\n",
    "    #     chunk_size=chunk_size, chunk_overlap=chunk_overlap\n",
    "    # )\n",
    "    # splits = text_splitter.split_documents(md_header_splits)\n",
    "    # return splits\n",
    "\n",
    "\n",
    "chunk(documents[0])"
   ]
  },
  {
   "cell_type": "code",
   "execution_count": null,
   "id": "9b63a5a3-0537-41aa-96c9-27d66e6a33b5",
   "metadata": {},
   "outputs": [],
   "source": []
  },
  {
   "cell_type": "code",
   "execution_count": null,
   "id": "2f3573a2-e2ba-4818-ad18-0ffe5c2f2378",
   "metadata": {},
   "outputs": [],
   "source": []
  },
  {
   "cell_type": "code",
   "execution_count": null,
   "id": "bdc04a8d-dc78-4d24-a4c4-ff71fab1f21b",
   "metadata": {},
   "outputs": [],
   "source": []
  },
  {
   "cell_type": "markdown",
   "id": "38ee06d5-a1c8-4c00-b105-43a3a8f304f5",
   "metadata": {
    "jp-MarkdownHeadingCollapsed": true
   },
   "source": [
    "## Other embedding models"
   ]
  },
  {
   "cell_type": "code",
   "execution_count": null,
   "id": "680353c6-520f-405f-b4a9-1bc216ab8c79",
   "metadata": {},
   "outputs": [],
   "source": [
    "import torch.nn.functional as F\n",
    "from torch import Tensor\n",
    "from transformers import AutoTokenizer, AutoModel\n",
    "\n",
    "def average_pool(last_hidden_states: Tensor,\n",
    "                 attention_mask: Tensor) -> Tensor:\n",
    "    last_hidden = last_hidden_states.masked_fill(~attention_mask[..., None].bool(), 0.0)\n",
    "    return last_hidden.sum(dim=1) / attention_mask.sum(dim=1)[..., None]\n",
    "\n",
    "input_texts = [\n",
    "    \"what is the capital of China?\",\n",
    "    \"how to implement quick sort in python?\",\n",
    "    \"Beijing\",\n",
    "    \"sorting algorithms\"\n",
    "]\n",
    "\n",
    "tokenizer = AutoTokenizer.from_pretrained(\"thenlper/gte-base\")\n",
    "model = AutoModel.from_pretrained(\"thenlper/gte-base\")\n",
    "\n",
    "# Tokenize the input texts\n",
    "batch_dict = tokenizer(input_texts, max_length=512, padding=True, truncation=True, return_tensors='pt')\n",
    "\n",
    "outputs = model(**batch_dict)\n",
    "embeddings = average_pool(outputs.last_hidden_state, batch_dict['attention_mask'])\n",
    "\n",
    "# (Optionally) normalize embeddings\n",
    "embeddings = F.normalize(embeddings, p=2, dim=1)\n",
    "scores = (embeddings[:1] @ embeddings[1:].T) * 100\n",
    "print(scores.tolist())\n"
   ]
  },
  {
   "cell_type": "markdown",
   "id": "3d961752-9c4e-41b2-8eb2-2c9e04c199be",
   "metadata": {
    "jp-MarkdownHeadingCollapsed": true
   },
   "source": [
    "## Retriever"
   ]
  },
  {
   "cell_type": "code",
   "execution_count": null,
   "id": "461917b0-d884-4315-8ba5-15a7a63075b7",
   "metadata": {},
   "outputs": [],
   "source": [
    "from langchain.vectorstores import Qdrant\n",
    "qdrant = Qdrant.from_documents(\n",
    "    docs, embeddings, \n",
    "    location=\":memory:\",  # Local mode with in-memory storage only\n",
    "    collection_name=\"my_documents\",\n",
    ")\n"
   ]
  },
  {
   "cell_type": "code",
   "execution_count": null,
   "id": "ee8e95b7-7bd2-4fb0-b88d-c54608d881ff",
   "metadata": {},
   "outputs": [],
   "source": []
  },
  {
   "cell_type": "markdown",
   "id": "007894ae-bb64-466a-89b2-a3f3318ee363",
   "metadata": {
    "jp-MarkdownHeadingCollapsed": true
   },
   "source": [
    "## TF-IDF"
   ]
  },
  {
   "cell_type": "code",
   "execution_count": null,
   "id": "e69b3a8c-2639-4e11-99ac-cebd7657d120",
   "metadata": {},
   "outputs": [],
   "source": [
    "from langchain.retrievers import TFIDFRetriever\n",
    "retriever = TFIDFRetriever.from_texts([\"foo\", \"bar\", \"world\", \"hello\", \"foo bar\"])\n",
    "result = retriever.get_relevant_documents(\"foo\")\n",
    "result"
   ]
  },
  {
   "cell_type": "code",
   "execution_count": null,
   "id": "2cf3b2f4-b841-410e-9513-0ea10f671255",
   "metadata": {},
   "outputs": [],
   "source": []
  },
  {
   "cell_type": "markdown",
   "id": "391886e0-dfba-4f85-ac1e-1bcad28a82d0",
   "metadata": {},
   "source": [
    "## Main"
   ]
  },
  {
   "cell_type": "code",
   "execution_count": 35,
   "id": "445b466c-c108-4bab-9e7f-ab0b4fcbf74a",
   "metadata": {},
   "outputs": [
    {
     "name": "stderr",
     "output_type": "stream",
     "text": [
      "\n",
      "KeyboardInterrupt\n",
      "\n"
     ]
    }
   ],
   "source": [
    "%%time\n",
    "from langchain.document_loaders import TextLoader, DirectoryLoader\n",
    "from langchain.text_splitter import CharacterTextSplitter\n",
    "from langchain.embeddings import SentenceTransformerEmbeddings\n",
    "from langchain.vectorstores import Chroma\n",
    "from langchain.prompts import ChatPromptTemplate\n",
    "from langchain.chat_models import ChatOpenAI\n",
    "from langchain.schema.output_parser import StrOutputParser\n",
    "from langchain.schema.runnable import RunnablePassthrough\n",
    "\n",
    "# Step 1: Load the document(s) and split it into chunks\n",
    "# loader = DirectoryLoader(\"./data\", glob = \"*.md\")\n",
    "# documents = loader.load()\n",
    "# text_splitter = CharacterTextSplitter(chunk_size=1000, chunk_overlap=0)\n",
    "# chunks = text_splitter.split_documents(documents)\n",
    "\n",
    "# Step 2: Create embeddings\n",
    "# embedding_model = SentenceTransformerEmbeddings(model_name=\"all-MiniLM-L6-v2\")\n",
    "# chunks2 = [x.page_content for x in chunks] # HFEmbeddings only accepts str\n",
    "# embeddings = embedding_model.embed_documents(chunks2)\n",
    "\n",
    "# Step 3: Store embeddings in ChromaDB and save locally.\n",
    "# db = Chroma.from_embeddings(embeddings)\n",
    "db = Chroma.from_documents(chunks, embedding_model, persist_directory=\"./chroma_db\")\n",
    "\n",
    "# Step 4: Create a retriever\n",
    "retriever = db.as_retriever()"
   ]
  },
  {
   "cell_type": "code",
   "execution_count": 36,
   "id": "dde3a7c4-b04b-4d47-adc5-cb5548f78827",
   "metadata": {},
   "outputs": [
    {
     "name": "stdout",
     "output_type": "stream",
     "text": [
      "Engage in a conversation as though you were a character in a Jane Austen novel. Use formal language and manners, and discuss topics that would be of interest in the early 19th century, such as society, love, and decorum. \n",
      "\n",
      "Here is an excerpt of text you may refer to:\n",
      "“But that expression of ‘violently in love’ is so hackneyed, so doubtful, so indefinite, that it gives me very little idea. It is as often applied to feelings which arise from a half-hour’s acquaintance, as to a real, strong attachment. Pray, how violent was Mr. Bingley’s love?”\n",
      "\n",
      "“I never saw a more promising inclination; he was growing quite inattentive to other people, and wholly engrossed by her. Every time they met, it was more decided and remarkable. At his own ball he offended two or three young ladies, by not asking them to dance; and I spoke to him twice myself, without receiving an answer. Could there be finer symptoms? Is not general incivility the very essence of love?”\n",
      "\n",
      "# Question: What is love? Baby don't hurt me, don't hurt me, no more.\n",
      "# \n"
     ]
    }
   ],
   "source": [
    "# Step 5: Define the prompt template\n",
    "# source: https://chat.openai.com/share/c85e64f6-4dd2-4920-b82e-78f128898cbb\n",
    "template = \"\"\"Engage in a conversation as though you were a character in a Jane Austen novel.\\\n",
    " Use formal language and manners, and discuss topics that would be of interest in the early 19th century,\\\n",
    " such as society, love, and decorum. \n",
    "\n",
    "Here is an excerpt of text you may refer to:\n",
    "{context}\n",
    "\n",
    "# Question: {question}\n",
    "# \"\"\"\n",
    "prompt = ChatPromptTemplate.from_template(template)\n",
    "\n",
    "# Step 6: Generate a query\n",
    "question = \"What is love? Baby don't hurt me, don't hurt me, no more.\"\n",
    "context = db.similarity_search(question)[0].page_content\n",
    "print(prompt.format_messages(context = context, question = question)[0].content)"
   ]
  },
  {
   "cell_type": "code",
   "execution_count": null,
   "id": "ca9f6ba5-283b-441e-9a5f-b87761ceb838",
   "metadata": {},
   "outputs": [],
   "source": [
    "# Step 7: Use Llama.cpp as a prototype. "
   ]
  },
  {
   "cell_type": "code",
   "execution_count": null,
   "id": "89c2262e-1fdc-4cb0-a996-40463f5efa2a",
   "metadata": {},
   "outputs": [],
   "source": []
  },
  {
   "cell_type": "code",
   "execution_count": null,
   "id": "417b6f89-5390-4965-bd57-61a3f1ad0e6d",
   "metadata": {},
   "outputs": [],
   "source": []
  },
  {
   "cell_type": "code",
   "execution_count": null,
   "id": "0f8d2131-10d1-4855-8328-20641cdfbd4e",
   "metadata": {},
   "outputs": [],
   "source": []
  }
 ],
 "metadata": {
  "kernelspec": {
   "display_name": "Python 3 (ipykernel)",
   "language": "python",
   "name": "python3"
  },
  "language_info": {
   "codemirror_mode": {
    "name": "ipython",
    "version": 3
   },
   "file_extension": ".py",
   "mimetype": "text/x-python",
   "name": "python",
   "nbconvert_exporter": "python",
   "pygments_lexer": "ipython3",
   "version": "3.10.12"
  }
 },
 "nbformat": 4,
 "nbformat_minor": 5
}
