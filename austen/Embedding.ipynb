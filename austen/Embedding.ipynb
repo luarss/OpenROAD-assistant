{
 "cells": [
  {
   "cell_type": "markdown",
   "id": "120596f2-8749-40ae-ae47-c8ad09c91893",
   "metadata": {},
   "source": [
    "# Test notebook for generating embeddings"
   ]
  },
  {
   "cell_type": "code",
   "execution_count": 1,
   "id": "f168c0d7-0275-41a3-b952-35a510912575",
   "metadata": {},
   "outputs": [],
   "source": [
    "import langchain"
   ]
  },
  {
   "cell_type": "code",
   "execution_count": 5,
   "id": "78675102-127c-4738-a4ca-92c6cc60b2c5",
   "metadata": {},
   "outputs": [
    {
     "name": "stdout",
     "output_type": "stream",
     "text": [
      "./data/Lesley_Castle_1792.md\n",
      "./data/Emma_1815.md\n",
      "./data/Sense_and_Sensibility_1811.md\n",
      "./data/Pride_and_Prejudice_1813.md\n",
      "./data/Mansfield_Park_1814.md\n",
      "./data/Northanger_Abbey_1818.md\n",
      "./data/Juvenilia_1787.md\n",
      "./data/Persuasion_1818.md\n",
      "./data/The_history_of_England_1791.md\n",
      "./data/Lady_Susan_1871.md\n",
      "./data/Love_and_Friendship_1790.md\n"
     ]
    },
    {
     "data": {
      "text/plain": [
       "11"
      ]
     },
     "execution_count": 5,
     "metadata": {},
     "output_type": "execute_result"
    }
   ],
   "source": [
    "import os \n",
    "import glob\n",
    "\n",
    "# Load data\n",
    "documents = []\n",
    "for name in glob.glob('./data/*.md'): \n",
    "    print(name) \n",
    "    documents.append(open(name, 'r').read())\n",
    "\n",
    "len(documents)"
   ]
  },
  {
   "cell_type": "code",
   "execution_count": null,
   "id": "e69b3a8c-2639-4e11-99ac-cebd7657d120",
   "metadata": {},
   "outputs": [],
   "source": []
  }
 ],
 "metadata": {
  "kernelspec": {
   "display_name": "Python 3 (ipykernel)",
   "language": "python",
   "name": "python3"
  },
  "language_info": {
   "codemirror_mode": {
    "name": "ipython",
    "version": 3
   },
   "file_extension": ".py",
   "mimetype": "text/x-python",
   "name": "python",
   "nbconvert_exporter": "python",
   "pygments_lexer": "ipython3",
   "version": "3.10.12"
  }
 },
 "nbformat": 4,
 "nbformat_minor": 5
}
