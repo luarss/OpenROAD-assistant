{
 "cells": [
  {
   "cell_type": "markdown",
   "id": "c6b27a57-0b48-4c5e-bed7-3b5d8fac1b18",
   "metadata": {},
   "source": [
    "## Using GitLoader (Langchain) to load git repos."
   ]
  },
  {
   "cell_type": "code",
   "execution_count": null,
   "id": "8a45189a-4c49-45fe-bed0-d5657a2c2a10",
   "metadata": {},
   "outputs": [
    {
     "name": "stdout",
     "output_type": "stream",
     "text": [
      "Error reading file ./data/src/ant/test/sky130hs: [Errno 21] Is a directory: './data/src/ant/test/sky130hs'\n",
      "Error reading file ./data/src/cts/test/Nangate45: [Errno 21] Is a directory: './data/src/cts/test/Nangate45'\n",
      "Error reading file ./data/src/cts/test/sky130hd: [Errno 21] Is a directory: './data/src/cts/test/sky130hd'\n",
      "Error reading file ./data/src/cts/test/sky130hs: [Errno 21] Is a directory: './data/src/cts/test/sky130hs'\n",
      "Error reading file ./data/src/dbSta/test/Nangate45: [Errno 21] Is a directory: './data/src/dbSta/test/Nangate45'\n",
      "Error reading file ./data/src/dft/test/Nangate45: [Errno 21] Is a directory: './data/src/dft/test/Nangate45'\n",
      "Error reading file ./data/src/dft/test/sky130hd: [Errno 21] Is a directory: './data/src/dft/test/sky130hd'\n",
      "Error reading file ./data/src/dpl/test/Nangate45: [Errno 21] Is a directory: './data/src/dpl/test/Nangate45'\n",
      "Error reading file ./data/src/dpl/test/sky130hd: [Errno 21] Is a directory: './data/src/dpl/test/sky130hd'\n",
      "Error reading file ./data/src/dpl/test/sky130hs: [Errno 21] Is a directory: './data/src/dpl/test/sky130hs'\n",
      "Error reading file ./data/src/dpo/test/Nangate45: [Errno 21] Is a directory: './data/src/dpo/test/Nangate45'\n",
      "Error reading file ./data/src/drt/test/sky130hd: [Errno 21] Is a directory: './data/src/drt/test/sky130hd'\n",
      "Error reading file ./data/src/drt/test/sky130hs: [Errno 21] Is a directory: './data/src/drt/test/sky130hs'\n",
      "Error reading file ./data/src/fin/test/sky130hd: [Errno 21] Is a directory: './data/src/fin/test/sky130hd'\n",
      "Error reading file ./data/src/gpl/test/Nangate45: [Errno 21] Is a directory: './data/src/gpl/test/Nangate45'\n",
      "Error reading file ./data/src/gpl/test/asap7: [Errno 21] Is a directory: './data/src/gpl/test/asap7'\n",
      "Error reading file ./data/src/gpl/test/sky130hd: [Errno 21] Is a directory: './data/src/gpl/test/sky130hd'\n",
      "Error reading file ./data/src/grt/test/Nangate45: [Errno 21] Is a directory: './data/src/grt/test/Nangate45'\n",
      "Error reading file ./data/src/grt/test/sky130hd: [Errno 21] Is a directory: './data/src/grt/test/sky130hd'\n",
      "Error reading file ./data/src/grt/test/sky130hs: [Errno 21] Is a directory: './data/src/grt/test/sky130hs'\n",
      "Error reading file ./data/src/ifp/test/Nangate45: [Errno 21] Is a directory: './data/src/ifp/test/Nangate45'\n",
      "Error reading file ./data/src/ifp/test/sky130hd: [Errno 21] Is a directory: './data/src/ifp/test/sky130hd'\n",
      "Error reading file ./data/src/mpl/test/Nangate45: [Errno 21] Is a directory: './data/src/mpl/test/Nangate45'\n",
      "Error reading file ./data/src/mpl2/test/Nangate45: [Errno 21] Is a directory: './data/src/mpl2/test/Nangate45'\n",
      "Error reading file ./data/src/odb/test/Nangate45: [Errno 21] Is a directory: './data/src/odb/test/Nangate45'\n",
      "Error reading file ./data/src/odb/test/sky130hd: [Errno 21] Is a directory: './data/src/odb/test/sky130hd'\n",
      "Error reading file ./data/src/pad/test/Nangate45: [Errno 21] Is a directory: './data/src/pad/test/Nangate45'\n",
      "Error reading file ./data/src/pad/test/sky130hd: [Errno 21] Is a directory: './data/src/pad/test/sky130hd'\n",
      "Error reading file ./data/src/pad/test/sky130hs: [Errno 21] Is a directory: './data/src/pad/test/sky130hs'\n",
      "Error reading file ./data/src/par/test/Nangate45: [Errno 21] Is a directory: './data/src/par/test/Nangate45'\n",
      "Error reading file ./data/src/pdn/test/Nangate45: [Errno 21] Is a directory: './data/src/pdn/test/Nangate45'\n",
      "Error reading file ./data/src/pdn/test/sky130hd: [Errno 21] Is a directory: './data/src/pdn/test/sky130hd'\n",
      "Error reading file ./data/src/pdn/test/sky130hvl: [Errno 21] Is a directory: './data/src/pdn/test/sky130hvl'\n",
      "Error reading file ./data/src/ppl/test/Nangate45: [Errno 21] Is a directory: './data/src/ppl/test/Nangate45'\n",
      "Error reading file ./data/src/ppl/test/sky130hd: [Errno 21] Is a directory: './data/src/ppl/test/sky130hd'\n",
      "Error reading file ./data/src/psm/test/Nangate45: [Errno 21] Is a directory: './data/src/psm/test/Nangate45'\n",
      "Error reading file ./data/src/psm/test/asap7: [Errno 21] Is a directory: './data/src/psm/test/asap7'\n",
      "Error reading file ./data/src/psm/test/sky130hd: [Errno 21] Is a directory: './data/src/psm/test/sky130hd'\n",
      "Error reading file ./data/src/rcx/test/Nangate45: [Errno 21] Is a directory: './data/src/rcx/test/Nangate45'\n",
      "Error reading file ./data/src/rcx/test/sky130hs: [Errno 21] Is a directory: './data/src/rcx/test/sky130hs'\n",
      "Error reading file ./data/src/rmp/test/Nangate45: [Errno 21] Is a directory: './data/src/rmp/test/Nangate45'\n",
      "Error reading file ./data/src/rsz/test/Nangate45: [Errno 21] Is a directory: './data/src/rsz/test/Nangate45'\n",
      "Error reading file ./data/src/rsz/test/sky130hd: [Errno 21] Is a directory: './data/src/rsz/test/sky130hd'\n",
      "Error reading file ./data/src/rsz/test/sky130hs: [Errno 21] Is a directory: './data/src/rsz/test/sky130hs'\n",
      "Error reading file ./data/src/stt/test/Nangate45: [Errno 21] Is a directory: './data/src/stt/test/Nangate45'\n",
      "Error reading file ./data/src/stt/test/sky130hs: [Errno 21] Is a directory: './data/src/stt/test/sky130hs'\n",
      "Error reading file ./data/src/tap/test/Nangate45: [Errno 21] Is a directory: './data/src/tap/test/Nangate45'\n",
      "Error reading file ./data/src/tap/test/asap7: [Errno 21] Is a directory: './data/src/tap/test/asap7'\n",
      "Error reading file ./data/src/tap/test/sky130hs: [Errno 21] Is a directory: './data/src/tap/test/sky130hs'\n",
      "Error reading file ./data/src/par/examples/timing-aware-partitioning/Nangate45: [Errno 21] Is a directory: './data/src/par/examples/timing-aware-partitioning/Nangate45'\n"
     ]
    }
   ],
   "source": [
    "from langchain.document_loaders import GitLoader\n",
    "\n",
    "loader = GitLoader(\n",
    "    clone_url=\"https://github.com/The-OpenROAD-Project/OpenROAD\",\n",
    "    repo_path=\"./data\",\n",
    "    branch=\"master\",\n",
    ")\n",
    "\n",
    "data = loader.load()\n",
    "data"
   ]
  },
  {
   "cell_type": "code",
   "execution_count": 4,
   "id": "0f5a1d4f-8faa-402a-a865-b88464721ffe",
   "metadata": {},
   "outputs": [
    {
     "data": {
      "text/plain": [
       "4826"
      ]
     },
     "execution_count": 4,
     "metadata": {},
     "output_type": "execute_result"
    }
   ],
   "source": [
    "len(data)"
   ]
  },
  {
   "cell_type": "code",
   "execution_count": 6,
   "id": "81278fc8-5015-4467-93e1-4e6f2ee4209b",
   "metadata": {},
   "outputs": [],
   "source": [
    "# Code is adapted from https://github.com/langchain-ai/langchain/issues/3016\n",
    "from langchain.schema import Document\n",
    "import json\n",
    "from typing import Iterable\n",
    "\n",
    "def save_docs_to_jsonl(array:Iterable[Document], file_path:str)->None:\n",
    "    with open(file_path, 'w') as jsonl_file:\n",
    "        for doc in array:\n",
    "            jsonl_file.write(doc.json() + '\\n')\n",
    "\n",
    "def load_docs_from_jsonl(file_path)->Iterable[Document]:\n",
    "    array = []\n",
    "    with open(file_path, 'r') as jsonl_file:\n",
    "        for line in jsonl_file:\n",
    "            data = json.loads(line)\n",
    "            obj = Document(**data)\n",
    "            array.append(obj)\n",
    "    return array\n",
    "    \n",
    "save_docs_to_jsonl(data,'tempdata/data.jsonl')\n",
    "\n",
    "\n",
    "data2=load_docs_from_jsonl('tempdata/data.jsonl')\n",
    "assert len(data) == len(data2)\n"
   ]
  }
 ],
 "metadata": {
  "kernelspec": {
   "display_name": "Python 3 (ipykernel)",
   "language": "python",
   "name": "python3"
  },
  "language_info": {
   "codemirror_mode": {
    "name": "ipython",
    "version": 3
   },
   "file_extension": ".py",
   "mimetype": "text/x-python",
   "name": "python",
   "nbconvert_exporter": "python",
   "pygments_lexer": "ipython3",
   "version": "3.10.12"
  }
 },
 "nbformat": 4,
 "nbformat_minor": 5
}
